{
 "cells": [
  {
   "cell_type": "markdown",
   "metadata": {
    "colab_type": "text",
    "id": "UrMwfTnWanKH"
   },
   "source": [
    "**This notebook has been prepared by Fabien Moutarde and Guillaume Devineau from MINES ParisTech.**\n",
    "\n",
    "It adapts/combines 2 notebooks from : http://online.cambridgecoding.com/notebooks/cca_admin/deep-learning-for-complete-beginners-recognising-handwritten-digits\n",
    "http://online.cambridgecoding.com/notebooks/cca_admin/convolutional-neural-networks-with-keras"
   ]
  },
  {
   "cell_type": "markdown",
   "metadata": {
    "colab_type": "text",
    "id": "ansIhVtn6YOI"
   },
   "source": [
    "**NOTE: If you try to execute this notebook on Google COLAB (https://colab.research.google.com/notebooks/welcome.ipynb)**, you should: 1/ make sure that you are using python3 and a *GPU accelerated backend* (select *GPU* as Hardware accelerator either in the *Edit > Notebook settings* or in the *Runtime > Change runtime type* menus for the english colab interface, or in the *Execution > Modifier le type d'exécution* menus for the french colab interface); 2/ modify the Force_CPU to False in one of the first code block"
   ]
  },
  {
   "cell_type": "markdown",
   "metadata": {
    "colab_type": "text",
    "id": "3u6qAh9B6YOI"
   },
   "source": [
    "# Deep-Learning: Introduction to Convolutional Neural Networks"
   ]
  },
  {
   "cell_type": "markdown",
   "metadata": {
    "colab_type": "text",
    "id": "pKO2vQLhalS4"
   },
   "source": [
    "## 1. Introduction\n",
    "\n",
    "Welcome to a tutorial to get you quickly up to speed with *deep learning*; from first principles, all the way to discussions of some of the intricate details, with the purposes of achieving respectable performance on one established machine learning benchmark: [MNIST](http://yann.lecun.com/exdb/mnist/) (classification of handwritten digits).\n",
    "\n",
    "\n",
    "MNIST dataset                      \n",
    "![](http://perso.mines-paristech.fr/fabien.moutarde/ES_MachineLearning/TP_convNets/mnist.png)  \n",
    "\n",
    "By the end of this part of the tutorial, you should be capable of understanding and producing a simple CNN (with a structure similar to LeNet architecture) in Keras, achieving a respectable level of accuracy on MNIST.\n"
   ]
  },
  {
   "cell_type": "markdown",
   "metadata": {
    "colab_type": "text",
    "id": "k4AgL6_-afa7"
   },
   "source": [
    "## 2. Convolutions\n",
    "\n",
    "It turns out that there is a very efficient way of pulling this off, and it makes advantage of the structure of the information encoded within an image---it is assumed that pixels that are spatially *closer* together will \"cooperate\" on forming a particular feature of interest much more than ones on opposite corners of the image. Also, if a particular (smaller) feature is found to be of great importance when defining an image's label, it will be equally important if this feature was found anywhere within the image, regardless of location.\n",
    "\n",
    "Enter the **convolution** operator. Given a two-dimensional image, $\\bf I$, and a small matrix, $\\bf K$ of size $h \\times w$, (known as a *convolution kernel*), which we assume encodes a way of extracting an interesting image feature, we compute the convolved image, ${\\bf I} * {\\bf K}$, by overlaying the kernel on top of the image in all possible ways, and recording the sum of elementwise products between the image and the kernel:\n",
    "\n",
    "$$({\\bf I} * {\\bf K})_{xy} = \\sum_{i=1}^h \\sum_{j=1}^w {{\\bf K}_{ij} \\cdot {\\bf I}_{x + i - 1, y + j - 1}}$$\n",
    "\n",
    "(in fact, the exact definition would require us to flip the kernel matrix first, but for the purposes of machine learning it is irrelevant whether this is done)\n",
    "\n",
    "The images below show a diagrammatical overview of the above formula and the result of applying convolution (with two separate kernels) over an image, to act as an edge detector:\n",
    "\n",
    "![](http://perso.mines-paristech.fr/fabien.moutarde/ES_MachineLearning/TP_convNets/convolve.png)\n",
    "![](http://perso.mines-paristech.fr/fabien.moutarde/ES_MachineLearning/TP_convNets/lena.jpg)"
   ]
  },
  {
   "cell_type": "markdown",
   "metadata": {
    "colab_type": "text",
    "id": "zh1kyIfNafa8"
   },
   "source": [
    "## 3. Convolutional layers and Pooling layers\n",
    "\n",
    "The convolution operator forms the fundamental basis of the **convolutional** layer of a CNN. The layer is completely specified by a certain number of kernels, $\\bf \\vec{K}$ (along with additive biases, $\\vec{b}$, per each kernel), and it operates by computing the convolution of the output images of a previous layer with each of those kernels, afterwards adding the biases (one per each output image). Finally, an activation function, $\\sigma$, may be applied to all of the pixels of the output images. Typically, the input to a convolutional layer will have $d$ *channels* (e.g. red/green/blue in the input layer), in which case the kernels are extended to have this number of channels as well, making the final formula of a single output image channel of a convolutional layer (for a kernel ${\\bf K}$ and bias $b$) as follows:\n",
    "\n",
    "$$\\mathrm{conv}({\\bf I}, {\\bf K})_{xy} = \\sigma\\left(b + \\sum_{i=1}^h \\sum_{j=1}^w \\sum_{k=1}^d {{\\bf K}_{ijk} \\cdot {\\bf I}_{x + i - 1, y + j - 1, k}}\\right)$$\n",
    "\n",
    "Note that, since all we're doing here is addition and scaling of the input pixels, the kernels may be learned from a given training dataset via *gradient descent*, exactly as the weights of an MLP. In fact, an MLP is perfectly capable of replicating a convolutional layer, but it would require a lot more training time (and data) to learn to approximate that mode of operation.\n",
    "\n",
    "Finally, let's just note that a convolutional operator is in no way restricted to two-dimensionally structured data: in fact, most machine learning frameworks ([Keras included](https://keras.io/layers/convolutional/)) will provide you with out-of-the-box layers for 1D and 3D convolutions as well!\n",
    "\n",
    "It is important to note that, while a convolutional layer significantly decreases the number of *parameters* compared to a fully connected (FC) layer, it introduces more **hyperparameters**---parameters whose values need to be chosen *before* training starts.\n",
    "\n",
    "Namely, the hyperparameters to choose within a single convolutional layer are:\n",
    "- *depth*: how many different kernels (and biases) will be convolved with the output of the previous layer;\n",
    "- *height* and *width* of each kernel;\n",
    "- *stride*: by how much we shift the kernel in each step to compute the next pixel in the result. This specifies the overlap between individual output pixels, and typically it is set to $1$, corresponding to the formula given before. Note that larger strides result in smaller output sizes.\n",
    "- *padding*: note that convolution by any kernel larger than $1\\times 1$ will *decrease* the output image size---it is often desirable to keep sizes the same, in which case the image is sufficiently padded with zeroes at the edges. This is often called *\"same\"* padding, as opposed to *\"valid\"* (no) padding. It is possible to add arbitrary levels of padding, but typically the padding of choice will be either same or valid.\n",
    "\n",
    "As already hinted, convolutions are not typically meant to be the sole operation in a CNN (although there have been promising recent developments on [all-convolutional networks](https://arxiv.org/pdf/1412.6806v3.pdf)); but rather to extract useful features of an image prior to downsampling it sufficiently to be manageable by an MLP.\n",
    "\n",
    "A very popular approach to downsampling is a *pooling* layer, which consumes small and (usually) disjoint chunks of the image (typically $2\\times 2$) and aggregates them into a single value. There are several possible schemes for the aggregation---the most popular being **max-pooling**, where the maximum pixel value within each chunk is taken. A diagrammatical illustration of $2\\times 2$ max-pooling is given below.\n",
    "\n",
    "![](http://perso.mines-paristech.fr/fabien.moutarde/ES_MachineLearning/TP_convNets/pool.png)"
   ]
  },
  {
   "cell_type": "markdown",
   "metadata": {
    "colab_type": "text",
    "id": "-_DYmVMJafa9"
   },
   "source": [
    "## 4. Convolutional Neural Network (CNN) architecture\n",
    "\n",
    "Now that we got all the building blocks, let's see what a typical convolutional neural network might look like!\n",
    "\n",
    "![](http://perso.mines-paristech.fr/fabien.moutarde/ES_MachineLearning/TP_convNets/cnn.png)\n",
    "\n",
    "A typical CNN architecture for a $k$-class image classification can be split into two distinct parts---a chain of repeating $\\mathrm{Conv}\\rightarrow\\mathrm{Pool}$ layers (sometimes with more than one convolutional layer at once), followed by a few fully connected layers (taking each pixel of the computed images as an independent input), culminating in a $k$-way softmax layer, to which a cross-entropy loss is optimised. I did not draw the activation functions here to make the sketch clearer, but do keep in mind that typically after every convolutional or fully connected layer, an activation (e.g. ReLU) will be applied to all of the outputs.\n",
    "\n",
    "Note the effect of a single $\\mathrm{Conv}\\rightarrow\\mathrm{Pool}$ pass through the image: it reduces height and width of the individual channels in favour of their number, i.e. *depth*.\n",
    "\n",
    "The softmax layer and cross-entropy loss are both introduced in more detail [in the previous tutorial](http://online.cambridgecoding.com/notebooks/cca_admin/deep-learning-for-complete-beginners-recognising-handwritten-digits). For summarisation purposes, a softmax layer's purpose is converting any vector of real numbers into a vector of *probabilities* (nonnegative real values that add up to 1). Within this context, the probabilities correspond to the likelihoods that an input image is a member of a particular class. Minimising the cross-entropy loss has the effect of maximising the model's confidence in the *correct* class, without being concerned for the probabilites for other classes---this makes it a more suitable choice for probabilistic tasks compared to, for example, the squared error loss."
   ]
  },
  {
   "cell_type": "markdown",
   "metadata": {
    "colab_type": "text",
    "id": "gvHal3Gjafa_"
   },
   "source": [
    "## 5. Detour: Overfitting, regularisation and dropout\n",
    "\n",
    "This will be the first (and hopefully the only) time when I will divert your attention to a seemingly unrelated topic. It regards a very important pitfall of machine learning---**overfitting** a model to the training data. While this is primarily going to be a major topic of the next tutorial in the series, the negative effects of overfitting will tend to become quite noticeable on the networks like the one we are about to build, and we need to introduce a way to properly protect ourselves against it, before going any further. Luckily, there is a very simple technique we can use.\n",
    "\n",
    "Overfitting corresponds to adapting our model to the training set to such extremes that its generalisation potential (performance on samples outside of the training set) is *severely* limited. In other words, our model might have learned the training set (along with any noise present within it) perfectly, but it has failed to capture the underlying process that generated it. To illustrate, consider a problem of fitting a sine curve, with white additive noise applied to the data points: \n",
    "\n",
    "![](http://perso.mines-paristech.fr/fabien.moutarde/ES_MachineLearning/TP_convNets/plotsin.png)\n",
    "\n",
    "Here we have a training set (denoted by blue circles) derived from the original sine wave, along with some noise. If we fit a degree-3 polynomial to this data, we get a fairly good approximation to the original curve. Someone might argue that a degree-14 polynomial would do better; indeed, given we have 15 points, such a fit would *perfectly* describe the training data. However, in this case, the additional parameters of the model cause catastrophic results: to cope with the inherent noise of the data, anywhere except in the closest vicinity of the training points, our fit is completely off.\n",
    "\n",
    "Deep convolutional neural networks have a large number of parameters, especially in the fully connected layers. Overfitting might often manifest in the following form: if we don't have sufficiently many training examples, a small group of neurons might become responsible for doing most of the processing and other neurons becoming redundant; or in the other extreme, some neurons might actually become detrimental to performance, with several other neurons of their layer ending up doing nothing else but correcting for their errors.\n",
    "\n",
    "To help our models generalise better in these circumstances, we introduce techniques of *regularisation*: rather than reducing the number of parameters, we impose *constraints* on the model parameters during training to keep them from learning the noise in the training data. The particular method I will introduce here is **dropout**---a technique that initially might seem like \"dark magic\", but actually helps to eliminate exactly the failure modes described above. Namely, dropout with parameter $p$ will, within a single training iteration, go through all neurons in a particular layer and, with probability $p$, *completely eliminate them from the network throughout the iteration*. This has the effect of forcing the neural network to cope with *failures*, and not to rely on existence of a particular neuron (or set of neurons)---relying more on a *consensus* of several neurons within a layer. This is a very simple technique that works quite well already for combatting overfitting on its own, without introducing further regularisers. An illustration is given below.\n",
    "\n",
    "![](http://perso.mines-paristech.fr/fabien.moutarde/ES_MachineLearning/TP_convNets/drop.png)"
   ]
  },
  {
   "cell_type": "markdown",
   "metadata": {
    "colab_type": "text",
    "id": "eu5A5Fz_afa_"
   },
   "source": [
    "## 6. Applying a deep CNN to MNIST\n",
    "\n",
    "As this post's objective, we will implement a deep convolutional neural network---and apply it on the MNIST digit recognition classification task.\n"
   ]
  },
  {
   "cell_type": "markdown",
   "metadata": {
    "colab_type": "text",
    "id": "3Bbt9WpRafbB"
   },
   "source": [
    "As already mentioned, a CNN will typically have more hyperparameters than an MLP. For the purposes of this tutorial, we will also stick to \"sensible\" hand-picked values for them, but do still keep in mind that later on I will introduce a more proper method for learning them.\n",
    "\n",
    "The hyperparameters are:\n",
    "- The *batch size*, representing the number of training examples being used simultaneously during a single iteration of the gradient descent algorithm;\n",
    "- The number of *epochs*, representing the number of times the training algorithm will iterate over the entire training set before terminating\\*;\n",
    "- The *kernel sizes* in the convolutional layers;\n",
    "- The *pooling size* in the pooling layers;\n",
    "- The *number of kernels* in the convolutional layers;\n",
    "- The *dropout probability* (we will apply dropout after each pooling, and after the fully connected layer);\n",
    "- The *number of neurons* in the fully connected layer of the MLP.\n",
    "\n",
    "\\* **N.B. here I have set the number of epochs to 100, which might be undesirably slow if you do not have a GPU at your disposal (the convolution layers are going to pose a significant performance bottleneck in this case). You might wish to decrease the epoch count and/or numbers of kernels if you are going to be training the network on a CPU.**\n"
   ]
  },
  {
   "cell_type": "markdown",
   "metadata": {
    "colab_type": "text",
    "id": "i27RHvxSafbE"
   },
   "source": [
    "Modelling time! Our network has an architecture similar to LeNet5 of LeCun (see figure below). It will consist of two consecutive groups of one `Convolution2D` followed by  a `MaxPooling2D` layer. After the first pooling layer, the number of kernels is rougly doubled (in line with the previously mentioned principle of sacrificing height and width for more depth). Afterwards, the output of the second pooling layer is flattened to 1D (via the `Flatten` layer), and passed through one or two fully connected (`Dense`) layers. ReLU activations will once again be used for all layers except the output dense layer, which will use a softmax activation (for purposes of probabilistic classification).\n",
    "\n",
    "![](http://perso.mines-paristech.fr/fabien.moutarde/ES_MachineLearning/TP_convNets/lenet5.png)\n",
    "\n",
    "To regularise our model, a `Dropout` layer is applied after each pooling layer, and after the first `Dense` layer. This is another area where Keras shines compared to other frameworks: it has an internal flag that automatically enables or disables dropout, depending on whether the model is currently used for training or testing.\n",
    "\n",
    "The remainder of the model specification is the following:\n",
    "- We use the *cross-entropy* loss function as the objective to optimise (as its derivation is more appropriate for probabilistic tasks);\n",
    "- We use the [*Adam* optimiser for gradient descent](http://sebastianruder.com/optimizing-gradient-descent/);\n",
    "- We report the *accuracy* of the model (as the dataset is balanced across the ten classes)\\*;\n",
    "- We hold out 10% of the data for validation purposes.\n",
    "\n",
    "\\* To get a feeling for why accuracy might be inappropriate for unbalanced datasets, consider an extreme case where 90% of the test data belongs to class $x$ (this could be, for example, the task of diagnosing patients for an extremely rare disease). In this case, a classifier that just outputs $x$ achieves a seemingly impressive accuracy of 90% on the test data, without really doing any learning/generalisation."
   ]
  },
  {
   "cell_type": "markdown",
   "metadata": {
    "colab_type": "text",
    "id": "W6IvdsLDafbF"
   },
   "source": [
    "This model, possibly after some tweaking of its architectural parameters, should be able to break $99\\%$ accuracy on its **test set** with little to no effort.\n"
   ]
  },
  {
   "cell_type": "markdown",
   "metadata": {
    "colab_type": "text",
    "id": "WzRwr-JPafbI"
   },
   "source": [
    "## 7. Conclusion\n",
    "\n",
    "Throughout this post we have covered the essentials of convolutional neural networks, introduced the problem of overfitting, and made a very brief dent into how it could be rectified via regularisation (by applying dropout) and successfully implemented a two-layer deep CNN (with LeNet like architecture) in Keras, applying it to MNIST, all in under 50 lines of code. \n"
   ]
  },
  {
   "cell_type": "markdown",
   "metadata": {
    "colab_type": "text",
    "id": "NUEvYeYTafbJ"
   },
   "source": [
    "## 8. Just show me the code!"
   ]
  },
  {
   "cell_type": "markdown",
   "metadata": {
    "colab_type": "text",
    "id": "VnhMNn9m6YOP"
   },
   "source": [
    "This code assume your already have installed <code>numpy</code>, <code>keras</code>, <code>tensorflow</code>, ... on your computer. If not, uncomment the adequate lines in the cell below:"
   ]
  },
  {
   "cell_type": "code",
   "execution_count": 1,
   "metadata": {
    "colab": {
     "base_uri": "https://localhost:8080/",
     "height": 34
    },
    "colab_type": "code",
    "id": "WBL5Mv9f6YOQ",
    "outputId": "058c7779-8483-45af-f89a-94063c3e5e10"
   },
   "outputs": [
    {
     "name": "stdout",
     "output_type": "stream",
     "text": [
      "Your python version: 3\n"
     ]
    }
   ],
   "source": [
    "import sys\n",
    "print('Your python version: {}'.format(sys.version_info.major))\n",
    "# Uncomment lines below only if you need them \n",
    "#!{sys.executable} -m pip install -U numpy --user\n",
    "#!{sys.executable} -m pip install -U matplotlib --user\n",
    "#!{sys.executable} -m pip install -U tensorflow --user"
   ]
  },
  {
   "cell_type": "code",
   "execution_count": 2,
   "metadata": {
    "colab": {
     "base_uri": "https://localhost:8080/",
     "height": 52
    },
    "colab_type": "code",
    "id": "jRM8mmQyafbe",
    "outputId": "6cb10bd5-7b3e-4f1f-b8ce-d702cbeeee98"
   },
   "outputs": [
    {
     "name": "stdout",
     "output_type": "stream",
     "text": [
      "Your tensorflow version: 2.3.1\n",
      "GPU : /device:GPU:0\n",
      "name: \"/device:GPU:0\"\n",
      "device_type: \"GPU\"\n",
      "memory_limit: 4973462816\n",
      "locality {\n",
      "  bus_id: 1\n",
      "  links {\n",
      "  }\n",
      "}\n",
      "incarnation: 10811265493403589508\n",
      "physical_device_desc: \"device: 0, name: GeForce GTX 1660 Ti, pci bus id: 0000:01:00.0, compute capability: 7.5\"\n",
      "\n"
     ]
    }
   ],
   "source": [
    "\n",
    "import tensorflow\n",
    "print('Your tensorflow version: {}'.format(tensorflow.__version__))\n",
    "print(\"GPU : \"+tensorflow.test.gpu_device_name())\n",
    "from tensorflow.python.client import device_lib\n",
    "local_device_protos = device_lib.list_local_devices()\n",
    "for x in local_device_protos:\n",
    "    if (x.device_type == 'GPU'):\n",
    "        print(x)"
   ]
  },
  {
   "cell_type": "code",
   "execution_count": 3,
   "metadata": {
    "colab": {
     "base_uri": "https://localhost:8080/",
     "height": 34
    },
    "colab_type": "code",
    "id": "-PsRmEbZafbi",
    "outputId": "5ab001e9-c32f-46b8-f0d5-3916124bfe37",
    "scrolled": true
   },
   "outputs": [
    {
     "name": "stdout",
     "output_type": "stream",
     "text": [
      "(60000, 28, 28, 1) (60000, 10)\n"
     ]
    }
   ],
   "source": [
    "import numpy as np\n",
    "from tensorflow.keras.datasets import mnist # subroutines for fetching the MNIST dataset\n",
    "# --------------------------------------\n",
    "# Dataset variables\n",
    "# --------------------------------------\n",
    "tensorflow.device('/gpu:0')\n",
    "num_train = 60000 # there are 60000 training examples in MNIST\n",
    "num_test = 10000  # there are 10000 test examples in MNIST\n",
    "height, width, depth = 28, 28, 1 # MNIST images are 28x28 with 1 channel (greyscale)\n",
    "num_classes = 10                 # there are 10 classes (1 per digit)\n",
    "\n",
    "# --------------------------------------\n",
    "# Dataset loading & preprocessing\n",
    "# --------------------------------------\n",
    "(X_train, y_train), (X_test, y_test) = mnist.load_data() # fetch MNIST data\n",
    "\n",
    "X_train = X_train.astype('float32') \n",
    "X_test = X_test.astype('float32')\n",
    "X_train /= 255 # Normalise data to [0, 1] range\n",
    "X_test /= 255 # Normalise data to [0, 1] range\n",
    "\n",
    "X_train = X_train[:, :, :, np.newaxis] # Reshape in \"convolutionable\" format (add tensor dim for the depth)\n",
    "X_test = X_test[:, :, :, np.newaxis] # Reshape in \"convolutionable\" format (add tensor dim for the depth)\n",
    "\n",
    "# One-hot encode the labels\n",
    "Y_train = np.eye(num_classes)[y_train]\n",
    "Y_test = np.eye(num_classes)[y_test]\n",
    "\n",
    "print(X_train.shape, Y_train.shape)"
   ]
  },
  {
   "cell_type": "code",
   "execution_count": 4,
   "metadata": {
    "colab": {
     "base_uri": "https://localhost:8080/",
     "height": 526
    },
    "colab_type": "code",
    "id": "YU9Q3hsmafbk",
    "outputId": "3b545e4e-40aa-446b-8e28-244b3d6f13d4",
    "scrolled": true
   },
   "outputs": [
    {
     "name": "stdout",
     "output_type": "stream",
     "text": [
      "Model: \"sequential\"\n",
      "_________________________________________________________________\n",
      "Layer (type)                 Output Shape              Param #   \n",
      "=================================================================\n",
      "conv2d (Conv2D)              (None, 28, 28, 6)         156       \n",
      "_________________________________________________________________\n",
      "max_pooling2d (MaxPooling2D) (None, 14, 14, 6)         0         \n",
      "_________________________________________________________________\n",
      "dropout (Dropout)            (None, 14, 14, 6)         0         \n",
      "_________________________________________________________________\n",
      "conv2d_1 (Conv2D)            (None, 14, 14, 16)        2416      \n",
      "_________________________________________________________________\n",
      "max_pooling2d_1 (MaxPooling2 (None, 7, 7, 16)          0         \n",
      "_________________________________________________________________\n",
      "dropout_1 (Dropout)          (None, 7, 7, 16)          0         \n",
      "_________________________________________________________________\n",
      "flatten (Flatten)            (None, 784)               0         \n",
      "_________________________________________________________________\n",
      "dense (Dense)                (None, 128)               100480    \n",
      "_________________________________________________________________\n",
      "dropout_2 (Dropout)          (None, 128)               0         \n",
      "_________________________________________________________________\n",
      "dense_1 (Dense)              (None, 10)                1290      \n",
      "=================================================================\n",
      "Total params: 104,342\n",
      "Trainable params: 104,342\n",
      "Non-trainable params: 0\n",
      "_________________________________________________________________\n",
      "None\n"
     ]
    }
   ],
   "source": [
    "\n",
    "import tensorflow.keras\n",
    "from tensorflow.keras import regularizers\n",
    "from tensorflow.keras.datasets import mnist # subroutines for fetching the MNIST dataset\n",
    "from tensorflow.keras.models import Model, Sequential # basic class for specifying and training a neural network\n",
    "from tensorflow.keras.layers import Input, Conv2D, MaxPooling2D, Dense, Dropout, Activation, Flatten \n",
    "# --------------------------------------\n",
    "# Network params\n",
    "# --------------------------------------\n",
    "# Network params\n",
    "batch_size = 32    # in each iteration, we consider 32 training examples at once\n",
    "num_epochs = 15    # we iterate 15 times over the entire training set\n",
    "kernel_size = 5    # we will use 5x5 kernels throughout\n",
    "pool_size = 2      # we will use 2x2 pooling throughout\n",
    "conv_depth_1 = 6   # we will initially have 6 kernels in first conv. layer...\n",
    "conv_depth_2 = 16  # ...switching to 16 after the first pooling layer\n",
    "drop_prob_1 = 0.   # dropout after pooling with probability 0.\n",
    "drop_prob_2 = 0.   # dropout in the FC layer with probability 0.\n",
    "hidden_size = 128  # the FC layer will have 128neurons\n",
    "weight_penalty = 0. # Factor for weights penalty\n",
    "\n",
    "# --------------------------------------\n",
    "# CNN network definition \n",
    "# --------------------------------------\n",
    "# inp = Input(shape=(1,height,width)) # greyscale --> depth==1\n",
    "# model = Model(input=inp, output=out) # To define a model, just specify its input and output layers\n",
    "\n",
    "model = Sequential()\n",
    "# Conv [8] -> Pool (with dropout on the pooling layer)\n",
    "model.add( Conv2D(conv_depth_1, (kernel_size,kernel_size), padding='same', activation='relu', data_format=\"channels_last\", input_shape=( 28, 28, 1)) )\n",
    "model.add( MaxPooling2D(pool_size=(pool_size, pool_size)) )\n",
    "model.add( Dropout(drop_prob_1) )\n",
    "\n",
    "# Conv [16] -> Pool (with dropout on the pooling layer)\n",
    "model.add( Conv2D(conv_depth_2, (kernel_size,kernel_size), padding='same', activation='relu') )\n",
    "model.add( MaxPooling2D(pool_size=(pool_size, pool_size)) )\n",
    "model.add( Dropout(drop_prob_1) )\n",
    "\n",
    "# Now flatten to 1D, apply FC -> ReLU (with dropout) -> softmax\n",
    "model.add( Flatten() )\n",
    "model.add( Dense(hidden_size, activation='relu', kernel_regularizer=regularizers.l2(weight_penalty)) )\n",
    "model.add( Dropout(drop_prob_2) )\n",
    "model.add( Dense(num_classes, activation='softmax') )\n",
    "\n",
    "print(model.summary())"
   ]
  },
  {
   "cell_type": "code",
   "execution_count": 5,
   "metadata": {
    "colab": {
     "base_uri": "https://localhost:8080/",
     "height": 597
    },
    "colab_type": "code",
    "id": "tGoXjiL8afbm",
    "outputId": "e3a87e2e-017b-4d59-b1a7-10996c265803",
    "scrolled": true
   },
   "outputs": [
    {
     "name": "stdout",
     "output_type": "stream",
     "text": [
      "Epoch 1/15\n",
      "1118/1125 [============================>.] - ETA: 0s - loss: 0.2214 - accuracy: 0.9307WARNING:tensorflow:Callbacks method `on_test_batch_end` is slow compared to the batch time (batch time: 0.0005s vs `on_test_batch_end` time: 0.0010s). Check your callbacks.\n",
      "1125/1125 [==============================] - 3s 3ms/step - loss: 0.2205 - accuracy: 0.9310 - val_loss: 0.0821 - val_accuracy: 0.9743\n",
      "Epoch 2/15\n",
      "1125/1125 [==============================] - 3s 3ms/step - loss: 0.0665 - accuracy: 0.9785 - val_loss: 0.0728 - val_accuracy: 0.9770\n",
      "Epoch 3/15\n",
      "1125/1125 [==============================] - 3s 3ms/step - loss: 0.0455 - accuracy: 0.9856 - val_loss: 0.0551 - val_accuracy: 0.9835\n",
      "Epoch 4/15\n",
      "1125/1125 [==============================] - 3s 3ms/step - loss: 0.0346 - accuracy: 0.9889 - val_loss: 0.0627 - val_accuracy: 0.9820\n",
      "Epoch 5/15\n",
      "1125/1125 [==============================] - 3s 3ms/step - loss: 0.0264 - accuracy: 0.9914 - val_loss: 0.0593 - val_accuracy: 0.9831\n",
      "Epoch 6/15\n",
      "1125/1125 [==============================] - 3s 3ms/step - loss: 0.0224 - accuracy: 0.9929 - val_loss: 0.0559 - val_accuracy: 0.9851\n",
      "Epoch 7/15\n",
      "1125/1125 [==============================] - 3s 3ms/step - loss: 0.0172 - accuracy: 0.9945 - val_loss: 0.0500 - val_accuracy: 0.9864\n",
      "Epoch 8/15\n",
      "1125/1125 [==============================] - 3s 3ms/step - loss: 0.0146 - accuracy: 0.9952 - val_loss: 0.0654 - val_accuracy: 0.9828\n",
      "Epoch 9/15\n",
      "1125/1125 [==============================] - 3s 3ms/step - loss: 0.0122 - accuracy: 0.9958 - val_loss: 0.0655 - val_accuracy: 0.9835\n",
      "Epoch 10/15\n",
      "1125/1125 [==============================] - 3s 3ms/step - loss: 0.0110 - accuracy: 0.9964 - val_loss: 0.0597 - val_accuracy: 0.9870\n",
      "Epoch 11/15\n",
      "1125/1125 [==============================] - 3s 3ms/step - loss: 0.0078 - accuracy: 0.9975 - val_loss: 0.0767 - val_accuracy: 0.9842\n",
      "Epoch 12/15\n",
      "1125/1125 [==============================] - 3s 3ms/step - loss: 0.0103 - accuracy: 0.9968 - val_loss: 0.0698 - val_accuracy: 0.9839\n",
      "Epoch 13/15\n",
      "1125/1125 [==============================] - 3s 3ms/step - loss: 0.0072 - accuracy: 0.9977 - val_loss: 0.0674 - val_accuracy: 0.9869\n",
      "Epoch 14/15\n",
      "1125/1125 [==============================] - 3s 3ms/step - loss: 0.0063 - accuracy: 0.9979 - val_loss: 0.0719 - val_accuracy: 0.9866\n",
      "Epoch 15/15\n",
      "1125/1125 [==============================] - 3s 3ms/step - loss: 0.0053 - accuracy: 0.9983 - val_loss: 0.0886 - val_accuracy: 0.9845\n",
      "313/313 [==============================] - 1s 2ms/step - loss: 0.0625 - accuracy: 0.9873\n",
      "The final loss on the TEST set is: 0.06.\n",
      "The final accuracy on the TEST set is: 0.99.\n"
     ]
    }
   ],
   "source": [
    "# --------------------------------------\n",
    "# Loss function and Optimizer\n",
    "# --------------------------------------\n",
    "model.compile(loss='categorical_crossentropy', # using the cross-entropy loss function\n",
    "              optimizer='adam', # using the Adam optimiser\n",
    "              metrics=['accuracy']) # reporting the accuracy\n",
    "\n",
    "# --------------------------------------\n",
    "# Training\n",
    "# --------------------------------------\n",
    "history = model.fit(X_train, Y_train, # Train the model using the training set...\n",
    "          batch_size=batch_size, epochs=num_epochs,\n",
    "          verbose=1, validation_split=0.4) # ...holding out 40% of the data for validation\n",
    "\n",
    "# --------------------------------------\n",
    "# Evaluation\n",
    "# --------------------------------------\n",
    "for loss_name, loss_value in list(zip(model.metrics_names, model.evaluate(X_test, Y_test, verbose=1))):\n",
    "    print('The final {} on the TEST set is: {:.2f}.'.format(loss_name, loss_value)) # Evaluate the trained model on the test set!"
   ]
  },
  {
   "cell_type": "markdown",
   "metadata": {
    "colab_type": "text",
    "id": "2-Tm9hsmGk0F"
   },
   "source": [
    "**Plot the training history, in order to check if overfitting seems to have occured or not, and if more training epochs could be performed.**\n"
   ]
  },
  {
   "cell_type": "code",
   "execution_count": 6,
   "metadata": {
    "colab": {
     "base_uri": "https://localhost:8080/",
     "height": 295
    },
    "colab_type": "code",
    "id": "4RJwykPsbrJ2",
    "outputId": "9309c8fc-d886-4efc-df15-f7a2c0a52719"
   },
   "outputs": [
    {
     "data": {
      "image/png": "[encoded data removed]",
      "text/plain": [
       "<Figure size 432x288 with 1 Axes>"
      ]
     },
     "metadata": {
      "needs_background": "light"
     },
     "output_type": "display_data"
    }
   ],
   "source": [
    "import matplotlib.pyplot as plt\n",
    "# --------------------------------------\n",
    "# Loss functions evolution\n",
    "# --------------------------------------\n",
    "plt.plot(history.history['loss'])\n",
    "plt.plot(history.history['val_loss'])\n",
    "plt.title('Model loss by epoch')\n",
    "plt.ylabel('loss')\n",
    "plt.xlabel('epoch')\n",
    "plt.legend(['train', 'valid'], loc='right')\n",
    "plt.show()\n",
    "\n"
   ]
  },
  {
   "cell_type": "markdown",
   "metadata": {
    "colab_type": "text",
    "id": "kzWPQqnOGu90"
   },
   "source": [
    "**You should see that over-fitting begins to occur.**\n",
    " - **Question 1: WHAT IS THE SIGN OF OVER-FITTING ON ABOVE GRAPH?**\n",
    "\n",
    " - **Answer:** The train accuracy continue converging to 0 while the test accuracy does not."
   ]
  },
  {
   "cell_type": "markdown",
   "metadata": {
    "colab_type": "text",
    "id": "0kEVLxH-7KHA"
   },
   "source": [
    "**Apart from early stopping, there are 2 different other methods that can be used to prevent over-fitting.**\n",
    " - **Question 2: WHAT ARE THOSE 2 OVER-FITTING PREVENTION METHODS?**\n",
    " - **Answer:** \n",
    "1. Add a dropout to the model \n",
    "2. Use L1/L2 regularization\n",
    "\n",
    "**Test those 2 methods SEPARATELY below, by copy-pasting the original code, modifying it, and running it.**"
   ]
  },
  {
   "cell_type": "code",
   "execution_count": 7,
   "metadata": {
    "colab": {},
    "colab_type": "code",
    "id": "6VwKmaWQGy9U"
   },
   "outputs": [
    {
     "name": "stdout",
     "output_type": "stream",
     "text": [
      "Model: \"sequential_1\"\n",
      "_________________________________________________________________\n",
      "Layer (type)                 Output Shape              Param #   \n",
      "=================================================================\n",
      "conv2d_2 (Conv2D)            (None, 28, 28, 6)         156       \n",
      "_________________________________________________________________\n",
      "max_pooling2d_2 (MaxPooling2 (None, 14, 14, 6)         0         \n",
      "_________________________________________________________________\n",
      "dropout_3 (Dropout)          (None, 14, 14, 6)         0         \n",
      "_________________________________________________________________\n",
      "conv2d_3 (Conv2D)            (None, 14, 14, 16)        2416      \n",
      "_________________________________________________________________\n",
      "max_pooling2d_3 (MaxPooling2 (None, 7, 7, 16)          0         \n",
      "_________________________________________________________________\n",
      "dropout_4 (Dropout)          (None, 7, 7, 16)          0         \n",
      "_________________________________________________________________\n",
      "flatten_1 (Flatten)          (None, 784)               0         \n",
      "_________________________________________________________________\n",
      "dense_2 (Dense)              (None, 128)               100480    \n",
      "_________________________________________________________________\n",
      "dropout_5 (Dropout)          (None, 128)               0         \n",
      "_________________________________________________________________\n",
      "dense_3 (Dense)              (None, 10)                1290      \n",
      "=================================================================\n",
      "Total params: 104,342\n",
      "Trainable params: 104,342\n",
      "Non-trainable params: 0\n",
      "_________________________________________________________________\n",
      "None\n"
     ]
    }
   ],
   "source": [
    "# Test ConvNet overfitting prevention method #1\n",
    "\n",
    "import tensorflow.keras\n",
    "from tensorflow.keras import regularizers\n",
    "from tensorflow.keras.datasets import mnist # subroutines for fetching the MNIST dataset\n",
    "from tensorflow.keras.models import Model, Sequential # basic class for specifying and training a neural network\n",
    "from tensorflow.keras.layers import Input, Conv2D, MaxPooling2D, Dense, Dropout, Activation, Flatten \n",
    "# --------------------------------------\n",
    "# Network params\n",
    "# --------------------------------------\n",
    "# Network params\n",
    "batch_size = 32    # in each iteration, we consider 32 training examples at once\n",
    "num_epochs = 15    # we iterate 15 times over the entire training set\n",
    "kernel_size = 5    # we will use 5x5 kernels throughout\n",
    "pool_size = 2      # we will use 2x2 pooling throughout\n",
    "conv_depth_1 = 6   # we will initially have 6 kernels in first conv. layer...\n",
    "conv_depth_2 = 16  # ...switching to 16 after the first pooling layer\n",
    "drop_prob_1 = 0.3   # dropout after pooling with probability 0.\n",
    "drop_prob_2 = 0.3   # dropout in the FC layer with probability 0.\n",
    "hidden_size = 128  # the FC layer will have 128neurons\n",
    "weight_penalty = 0. # Factor for weights penalty\n",
    "\n",
    "model = Sequential()\n",
    "model.add( Conv2D(conv_depth_1, (kernel_size,kernel_size), padding='same', activation='relu', data_format=\"channels_last\", input_shape=( 28, 28, 1)) )\n",
    "model.add( MaxPooling2D(pool_size=(pool_size, pool_size)) )\n",
    "model.add( Dropout(drop_prob_1) )\n",
    "\n",
    "model.add( Conv2D(conv_depth_2, (kernel_size,kernel_size), padding='same', activation='relu') )\n",
    "model.add( MaxPooling2D(pool_size=(pool_size, pool_size)) )\n",
    "model.add( Dropout(drop_prob_1) )\n",
    "\n",
    "model.add( Flatten() )\n",
    "model.add( Dense(hidden_size, activation='relu', kernel_regularizer=regularizers.l2(weight_penalty)) )\n",
    "model.add( Dropout(drop_prob_2) )\n",
    "model.add( Dense(num_classes, activation='softmax') )\n",
    "\n",
    "print(model.summary())"
   ]
  },
  {
   "cell_type": "code",
   "execution_count": 8,
   "metadata": {},
   "outputs": [
    {
     "name": "stdout",
     "output_type": "stream",
     "text": [
      "Epoch 1/15\n",
      "1125/1125 [==============================] - 3s 3ms/step - loss: 0.3954 - accuracy: 0.8723 - val_loss: 0.1106 - val_accuracy: 0.9660\n",
      "Epoch 2/15\n",
      "1125/1125 [==============================] - 3s 3ms/step - loss: 0.1536 - accuracy: 0.9522 - val_loss: 0.0759 - val_accuracy: 0.9764\n",
      "Epoch 3/15\n",
      "1125/1125 [==============================] - 3s 3ms/step - loss: 0.1196 - accuracy: 0.9625 - val_loss: 0.0633 - val_accuracy: 0.9801\n",
      "Epoch 4/15\n",
      "1125/1125 [==============================] - 3s 3ms/step - loss: 0.1019 - accuracy: 0.9674 - val_loss: 0.0583 - val_accuracy: 0.9823\n",
      "Epoch 5/15\n",
      "1125/1125 [==============================] - 3s 3ms/step - loss: 0.0953 - accuracy: 0.9694 - val_loss: 0.0520 - val_accuracy: 0.9832\n",
      "Epoch 6/15\n",
      "1125/1125 [==============================] - 3s 3ms/step - loss: 0.0843 - accuracy: 0.9730 - val_loss: 0.0557 - val_accuracy: 0.9828\n",
      "Epoch 7/15\n",
      "1125/1125 [==============================] - 3s 3ms/step - loss: 0.0780 - accuracy: 0.9749 - val_loss: 0.0425 - val_accuracy: 0.9875\n",
      "Epoch 8/15\n",
      "1125/1125 [==============================] - 3s 3ms/step - loss: 0.0747 - accuracy: 0.9762 - val_loss: 0.0441 - val_accuracy: 0.9864\n",
      "Epoch 9/15\n",
      "1125/1125 [==============================] - 3s 3ms/step - loss: 0.0707 - accuracy: 0.9772 - val_loss: 0.0432 - val_accuracy: 0.9865\n",
      "Epoch 10/15\n",
      "1125/1125 [==============================] - 3s 3ms/step - loss: 0.0700 - accuracy: 0.9783 - val_loss: 0.0428 - val_accuracy: 0.9872\n",
      "Epoch 11/15\n",
      "1125/1125 [==============================] - 3s 3ms/step - loss: 0.0671 - accuracy: 0.9786 - val_loss: 0.0427 - val_accuracy: 0.9868\n",
      "Epoch 12/15\n",
      "1125/1125 [==============================] - 3s 3ms/step - loss: 0.0625 - accuracy: 0.9797 - val_loss: 0.0402 - val_accuracy: 0.9876\n",
      "Epoch 13/15\n",
      "1125/1125 [==============================] - 3s 3ms/step - loss: 0.0564 - accuracy: 0.9811 - val_loss: 0.0361 - val_accuracy: 0.9889\n",
      "Epoch 14/15\n",
      "1125/1125 [==============================] - 3s 3ms/step - loss: 0.0599 - accuracy: 0.9804 - val_loss: 0.0397 - val_accuracy: 0.9882\n",
      "Epoch 15/15\n",
      "1125/1125 [==============================] - 3s 3ms/step - loss: 0.0549 - accuracy: 0.9827 - val_loss: 0.0411 - val_accuracy: 0.9878\n",
      "313/313 [==============================] - 1s 2ms/step - loss: 0.0284 - accuracy: 0.9903\n",
      "The final loss on the TEST set is: 0.03.\n",
      "The final accuracy on the TEST set is: 0.99.\n"
     ]
    }
   ],
   "source": [
    "model.compile(loss='categorical_crossentropy', # using the cross-entropy loss function\n",
    "              optimizer='adam', # using the Adam optimiser\n",
    "              metrics=['accuracy']) # reporting the accuracy\n",
    "\n",
    "history = model.fit(X_train, Y_train, # Train the model using the training set...\n",
    "          batch_size=batch_size, epochs=num_epochs,\n",
    "          verbose=1, validation_split=0.4) # ...holding out 40% of the data for validation\n",
    "\n",
    "for loss_name, loss_value in list(zip(model.metrics_names, model.evaluate(X_test, Y_test, verbose=1))):\n",
    "    print('The final {} on the TEST set is: {:.2f}.'.format(loss_name, loss_value)) # Evaluate the trained model on the test set!"
   ]
  },
  {
   "cell_type": "code",
   "execution_count": 9,
   "metadata": {},
   "outputs": [
    {
     "data": {
      "image/png": "[encoded data removed]",
      "text/plain": [
       "<Figure size 432x288 with 1 Axes>"
      ]
     },
     "metadata": {
      "needs_background": "light"
     },
     "output_type": "display_data"
    }
   ],
   "source": [
    "plt.plot(history.history['loss'])\n",
    "plt.plot(history.history['val_loss'])\n",
    "plt.title('Model loss by epoch')\n",
    "plt.ylabel('loss')\n",
    "plt.xlabel('epoch')\n",
    "plt.legend(['train', 'valid'], loc='right')\n",
    "plt.show()"
   ]
  },
  {
   "cell_type": "code",
   "execution_count": 10,
   "metadata": {
    "colab": {},
    "colab_type": "code",
    "id": "S9rW0u2c7KHC"
   },
   "outputs": [
    {
     "name": "stdout",
     "output_type": "stream",
     "text": [
      "Model: \"sequential_2\"\n",
      "_________________________________________________________________\n",
      "Layer (type)                 Output Shape              Param #   \n",
      "=================================================================\n",
      "conv2d_4 (Conv2D)            (None, 28, 28, 6)         156       \n",
      "_________________________________________________________________\n",
      "max_pooling2d_4 (MaxPooling2 (None, 14, 14, 6)         0         \n",
      "_________________________________________________________________\n",
      "dropout_6 (Dropout)          (None, 14, 14, 6)         0         \n",
      "_________________________________________________________________\n",
      "conv2d_5 (Conv2D)            (None, 14, 14, 16)        2416      \n",
      "_________________________________________________________________\n",
      "max_pooling2d_5 (MaxPooling2 (None, 7, 7, 16)          0         \n",
      "_________________________________________________________________\n",
      "dropout_7 (Dropout)          (None, 7, 7, 16)          0         \n",
      "_________________________________________________________________\n",
      "flatten_2 (Flatten)          (None, 784)               0         \n",
      "_________________________________________________________________\n",
      "dense_4 (Dense)              (None, 128)               100480    \n",
      "_________________________________________________________________\n",
      "dropout_8 (Dropout)          (None, 128)               0         \n",
      "_________________________________________________________________\n",
      "dense_5 (Dense)              (None, 10)                1290      \n",
      "=================================================================\n",
      "Total params: 104,342\n",
      "Trainable params: 104,342\n",
      "Non-trainable params: 0\n",
      "_________________________________________________________________\n",
      "None\n"
     ]
    }
   ],
   "source": [
    "#Test ConvNet overfitting prevention method #2\n",
    "\n",
    "import tensorflow.keras\n",
    "from tensorflow.keras import regularizers\n",
    "from tensorflow.keras.datasets import mnist # subroutines for fetching the MNIST dataset\n",
    "from tensorflow.keras.models import Model, Sequential # basic class for specifying and training a neural network\n",
    "from tensorflow.keras.layers import Input, Conv2D, MaxPooling2D, Dense, Dropout, Activation, Flatten \n",
    "# --------------------------------------\n",
    "# Network params\n",
    "# --------------------------------------\n",
    "# Network params\n",
    "batch_size = 32    # in each iteration, we consider 32 training examples at once\n",
    "num_epochs = 15    # we iterate 15 times over the entire training set\n",
    "kernel_size = 5    # we will use 5x5 kernels throughout\n",
    "pool_size = 2      # we will use 2x2 pooling throughout\n",
    "conv_depth_1 = 6   # we will initially have 6 kernels in first conv. layer...\n",
    "conv_depth_2 = 16  # ...switching to 16 after the first pooling layer\n",
    "drop_prob_1 = 0.   # dropout after pooling with probability 0.\n",
    "drop_prob_2 = 0.   # dropout in the FC layer with probability 0.\n",
    "hidden_size = 128  # the FC layer will have 128neurons\n",
    "weight_penalty = 1e-2 # Factor for weights penalty\n",
    "\n",
    "model = Sequential()\n",
    "model.add( Conv2D(conv_depth_1, (kernel_size,kernel_size), padding='same', activation='relu', data_format=\"channels_last\", input_shape=( 28, 28, 1)) )\n",
    "model.add( MaxPooling2D(pool_size=(pool_size, pool_size)) )\n",
    "model.add( Dropout(drop_prob_1) )\n",
    "\n",
    "model.add( Conv2D(conv_depth_2, (kernel_size,kernel_size), padding='same', activation='relu') )\n",
    "model.add( MaxPooling2D(pool_size=(pool_size, pool_size)) )\n",
    "model.add( Dropout(drop_prob_1) )\n",
    "\n",
    "model.add( Flatten() )\n",
    "model.add( Dense(hidden_size, activation='relu', kernel_regularizer=regularizers.l2(weight_penalty)) )\n",
    "model.add( Dropout(drop_prob_2) )\n",
    "model.add( Dense(num_classes, activation='softmax') )\n",
    "\n",
    "print(model.summary())"
   ]
  },
  {
   "cell_type": "code",
   "execution_count": 11,
   "metadata": {},
   "outputs": [
    {
     "name": "stdout",
     "output_type": "stream",
     "text": [
      "Epoch 1/15\n",
      "1125/1125 [==============================] - ETA: 0s - loss: 0.4988 - accuracy: 0.9225WARNING:tensorflow:Callbacks method `on_test_batch_end` is slow compared to the batch time (batch time: 0.0007s vs `on_test_batch_end` time: 0.0012s). Check your callbacks.\n",
      "1125/1125 [==============================] - 3s 3ms/step - loss: 0.4988 - accuracy: 0.9225 - val_loss: 0.2200 - val_accuracy: 0.9589\n",
      "Epoch 2/15\n",
      "1125/1125 [==============================] - 3s 3ms/step - loss: 0.1880 - accuracy: 0.9686 - val_loss: 0.1947 - val_accuracy: 0.9650\n",
      "Epoch 3/15\n",
      "1125/1125 [==============================] - 3s 3ms/step - loss: 0.1665 - accuracy: 0.9713 - val_loss: 0.1733 - val_accuracy: 0.9711\n",
      "Epoch 4/15\n",
      "1125/1125 [==============================] - 3s 3ms/step - loss: 0.1540 - accuracy: 0.9740 - val_loss: 0.1592 - val_accuracy: 0.9747\n",
      "Epoch 5/15\n",
      "1125/1125 [==============================] - 3s 3ms/step - loss: 0.1387 - accuracy: 0.9773 - val_loss: 0.1798 - val_accuracy: 0.9674\n",
      "Epoch 6/15\n",
      "1125/1125 [==============================] - 3s 3ms/step - loss: 0.1351 - accuracy: 0.9781 - val_loss: 0.1346 - val_accuracy: 0.9787\n",
      "Epoch 7/15\n",
      "1125/1125 [==============================] - 3s 3ms/step - loss: 0.1279 - accuracy: 0.9790 - val_loss: 0.1292 - val_accuracy: 0.9801\n",
      "Epoch 8/15\n",
      "1125/1125 [==============================] - 3s 3ms/step - loss: 0.1200 - accuracy: 0.9812 - val_loss: 0.1392 - val_accuracy: 0.9748\n",
      "Epoch 9/15\n",
      "1125/1125 [==============================] - 3s 3ms/step - loss: 0.1154 - accuracy: 0.9816 - val_loss: 0.1269 - val_accuracy: 0.9777\n",
      "Epoch 10/15\n",
      "1125/1125 [==============================] - 3s 3ms/step - loss: 0.1115 - accuracy: 0.9820 - val_loss: 0.1412 - val_accuracy: 0.9738\n",
      "Epoch 11/15\n",
      "1125/1125 [==============================] - 3s 3ms/step - loss: 0.1079 - accuracy: 0.9820 - val_loss: 0.1180 - val_accuracy: 0.9796\n",
      "Epoch 12/15\n",
      "1125/1125 [==============================] - 3s 3ms/step - loss: 0.1055 - accuracy: 0.9836 - val_loss: 0.1121 - val_accuracy: 0.9804\n",
      "Epoch 13/15\n",
      "1125/1125 [==============================] - 3s 3ms/step - loss: 0.0987 - accuracy: 0.9846 - val_loss: 0.1135 - val_accuracy: 0.9806\n",
      "Epoch 14/15\n",
      "1125/1125 [==============================] - 3s 3ms/step - loss: 0.0992 - accuracy: 0.9839 - val_loss: 0.1061 - val_accuracy: 0.9813\n",
      "Epoch 15/15\n",
      "1125/1125 [==============================] - 3s 3ms/step - loss: 0.0932 - accuracy: 0.9849 - val_loss: 0.1009 - val_accuracy: 0.9829\n",
      "313/313 [==============================] - 1s 2ms/step - loss: 0.0875 - accuracy: 0.9855\n",
      "The final loss on the TEST set is: 0.09.\n",
      "The final accuracy on the TEST set is: 0.99.\n"
     ]
    }
   ],
   "source": [
    "model.compile(loss='categorical_crossentropy', # using the cross-entropy loss function\n",
    "              optimizer='adam', # using the Adam optimiser\n",
    "              metrics=['accuracy']) # reporting the accuracy\n",
    "\n",
    "history = model.fit(X_train, Y_train, # Train the model using the training set...\n",
    "          batch_size=batch_size, epochs=num_epochs,\n",
    "          verbose=1, validation_split=0.4) # ...holding out 40% of the data for validation\n",
    "\n",
    "for loss_name, loss_value in list(zip(model.metrics_names, model.evaluate(X_test, Y_test, verbose=1))):\n",
    "    print('The final {} on the TEST set is: {:.2f}.'.format(loss_name, loss_value))"
   ]
  },
  {
   "cell_type": "code",
   "execution_count": 12,
   "metadata": {},
   "outputs": [
    {
     "data": {
      "image/png": "[encoded data removed]",
      "text/plain": [
       "<Figure size 432x288 with 1 Axes>"
      ]
     },
     "metadata": {
      "needs_background": "light"
     },
     "output_type": "display_data"
    }
   ],
   "source": [
    "plt.plot(history.history['loss'])\n",
    "plt.plot(history.history['val_loss'])\n",
    "plt.title('Model loss by epoch')\n",
    "plt.ylabel('loss')\n",
    "plt.xlabel('epoch')\n",
    "plt.legend(['train', 'valid'], loc='right')\n",
    "plt.show()"
   ]
  },
  {
   "cell_type": "markdown",
   "metadata": {
    "colab_type": "text",
    "id": "r15XDcXn7KHF"
   },
   "source": [
    "**FINAL ASSIGNMENT: Test on your own examples: 1/ draw yourself by hand (for example in Microsoft Paint or equivalent image editor, or on paper that you photograph afterwards with your smartphone) a few examples for each class of handwritten digits; 2/ rescale and crop your images so that their size is 28x28 pixels with nearly no white borders around digits, and make sure they are saved as grayscale or even black-and-white; 3/ In the code cell below, load your images, plot them, and then feed each one into your best trained ConvNet and display for each one the class probabilities estimated by your ConvNet:**"
   ]
  },
  {
   "cell_type": "code",
   "execution_count": 13,
   "metadata": {
    "colab": {},
    "colab_type": "code",
    "id": "Z70BVmgi7KHF"
   },
   "outputs": [
    {
     "data": {
      "image/png": "[encoded data removed]",
      "text/plain": [
       "<PIL.Image.Image image mode=L size=28x28 at 0x18F842CFF08>"
      ]
     },
     "metadata": {},
     "output_type": "display_data"
    },
    {
     "name": "stdout",
     "output_type": "stream",
     "text": [
      "784\n",
      "0\n"
     ]
    },
    {
     "data": {
      "image/png": "[encoded data removed]",
      "text/plain": [
       "<PIL.Image.Image image mode=L size=28x28 at 0x18F9C9CBC88>"
      ]
     },
     "metadata": {},
     "output_type": "display_data"
    },
    {
     "name": "stdout",
     "output_type": "stream",
     "text": [
      "784\n",
      "2\n"
     ]
    },
    {
     "data": {
      "image/png": "[encoded data removed]",
      "text/plain": [
       "<PIL.Image.Image image mode=L size=28x28 at 0x18F84204488>"
      ]
     },
     "metadata": {},
     "output_type": "display_data"
    },
    {
     "name": "stdout",
     "output_type": "stream",
     "text": [
      "784\n",
      "2\n"
     ]
    },
    {
     "data": {
      "image/png": "[encoded data removed]",
      "text/plain": [
       "<PIL.Image.Image image mode=L size=28x28 at 0x191402CE6C8>"
      ]
     },
     "metadata": {},
     "output_type": "display_data"
    },
    {
     "name": "stdout",
     "output_type": "stream",
     "text": [
      "784\n",
      "3\n"
     ]
    },
    {
     "data": {
      "image/png": "[encoded data removed]",
      "text/plain": [
       "<PIL.Image.Image image mode=L size=28x28 at 0x18F8439CF88>"
      ]
     },
     "metadata": {},
     "output_type": "display_data"
    },
    {
     "name": "stdout",
     "output_type": "stream",
     "text": [
      "784\n",
      "4\n"
     ]
    },
    {
     "data": {
      "image/png": "[encoded data removed]",
      "text/plain": [
       "<PIL.Image.Image image mode=L size=28x28 at 0x18F84204308>"
      ]
     },
     "metadata": {},
     "output_type": "display_data"
    },
    {
     "name": "stdout",
     "output_type": "stream",
     "text": [
      "784\n",
      "5\n"
     ]
    },
    {
     "data": {
      "image/png": "[encoded data removed]",
      "text/plain": [
       "<PIL.Image.Image image mode=L size=28x28 at 0x18F8421BA08>"
      ]
     },
     "metadata": {},
     "output_type": "display_data"
    },
    {
     "name": "stdout",
     "output_type": "stream",
     "text": [
      "784\n",
      "5\n"
     ]
    },
    {
     "data": {
      "image/png": "[encoded data removed]",
      "text/plain": [
       "<PIL.Image.Image image mode=L size=28x28 at 0x18F842CAFC8>"
      ]
     },
     "metadata": {},
     "output_type": "display_data"
    },
    {
     "name": "stdout",
     "output_type": "stream",
     "text": [
      "784\n",
      "7\n"
     ]
    },
    {
     "data": {
      "image/png": "[encoded data removed]",
      "text/plain": [
       "<PIL.Image.Image image mode=L size=28x28 at 0x18F84301208>"
      ]
     },
     "metadata": {},
     "output_type": "display_data"
    },
    {
     "name": "stdout",
     "output_type": "stream",
     "text": [
      "784\n",
      "8\n"
     ]
    },
    {
     "data": {
      "image/png": "[encoded data removed]",
      "text/plain": [
       "<PIL.Image.Image image mode=L size=28x28 at 0x18F84429F08>"
      ]
     },
     "metadata": {},
     "output_type": "display_data"
    },
    {
     "name": "stdout",
     "output_type": "stream",
     "text": [
      "784\n",
      "9\n"
     ]
    }
   ],
   "source": [
    "from PIL import Image\n",
    "for i in range(10):\n",
    "    filename = \"./handwriting/\"+str(i)+\"/\"+str(i)+\".png\"\n",
    "    img = Image.open(filename).convert('L')\n",
    "    display(img)\n",
    "    own_test = np.asarray(img,dtype=\"float32\")\n",
    "    own_test = 255-own_test\n",
    "    own_test /= 255\n",
    "    own_test = tensorflow.reshape(own_test,[-1, 28, 28, 1])\n",
    "    own_test = own_test[:, :, :, np.newaxis]\n",
    "\n",
    "    print(np.size(own_test))\n",
    "    prediction = model.predict(own_test)\n",
    "    print(np.argmax(prediction))"
   ]
  },
  {
   "cell_type": "markdown",
   "metadata": {
    "colab_type": "text",
    "id": "q52AIFD8G3dk"
   },
   "source": [
    "**Optional assignment: in code cell below, by applying a good combination and parameterization of the 2 regularization techniques, + increasing the number of training epochs, + reducing the proportion of validation hold-out, TRY TO OBTAIN >99% acuracy ON TEST SET:**"
   ]
  },
  {
   "cell_type": "code",
   "execution_count": 25,
   "metadata": {
    "colab": {},
    "colab_type": "code",
    "id": "mwgAaaAQG5X0"
   },
   "outputs": [
    {
     "name": "stdout",
     "output_type": "stream",
     "text": [
      "Model: \"sequential_8\"\n",
      "_________________________________________________________________\n",
      "Layer (type)                 Output Shape              Param #   \n",
      "=================================================================\n",
      "conv2d_16 (Conv2D)           (None, 28, 28, 6)         156       \n",
      "_________________________________________________________________\n",
      "max_pooling2d_16 (MaxPooling (None, 14, 14, 6)         0         \n",
      "_________________________________________________________________\n",
      "dropout_24 (Dropout)         (None, 14, 14, 6)         0         \n",
      "_________________________________________________________________\n",
      "conv2d_17 (Conv2D)           (None, 14, 14, 16)        2416      \n",
      "_________________________________________________________________\n",
      "max_pooling2d_17 (MaxPooling (None, 7, 7, 16)          0         \n",
      "_________________________________________________________________\n",
      "dropout_25 (Dropout)         (None, 7, 7, 16)          0         \n",
      "_________________________________________________________________\n",
      "flatten_8 (Flatten)          (None, 784)               0         \n",
      "_________________________________________________________________\n",
      "dense_16 (Dense)             (None, 128)               100480    \n",
      "_________________________________________________________________\n",
      "dropout_26 (Dropout)         (None, 128)               0         \n",
      "_________________________________________________________________\n",
      "dense_17 (Dense)             (None, 10)                1290      \n",
      "=================================================================\n",
      "Total params: 104,342\n",
      "Trainable params: 104,342\n",
      "Non-trainable params: 0\n",
      "_________________________________________________________________\n",
      "None\n"
     ]
    }
   ],
   "source": [
    "# Test ConvNet overfitting prevention method #1\n",
    "\n",
    "import tensorflow.keras\n",
    "from tensorflow.keras import regularizers\n",
    "from tensorflow.keras.datasets import mnist # subroutines for fetching the MNIST dataset\n",
    "from tensorflow.keras.models import Model, Sequential # basic class for specifying and training a neural network\n",
    "from tensorflow.keras.layers import Input, Conv2D, MaxPooling2D, Dense, Dropout, Activation, Flatten \n",
    "# --------------------------------------\n",
    "# Network params\n",
    "# --------------------------------------\n",
    "# Network params\n",
    "batch_size = 32    # in each iteration, we consider 32 training examples at once\n",
    "num_epochs = 30    # we iterate 15 times over the entire training set\n",
    "kernel_size = 5    # we will use 5x5 kernels throughout\n",
    "pool_size = 2      # we will use 2x2 pooling throughout\n",
    "conv_depth_1 = 6   # we will initially have 6 kernels in first conv. layer...\n",
    "conv_depth_2 = 16  # ...switching to 16 after the first pooling layer\n",
    "drop_prob_1 = 0.3   # dropout after pooling with probability 0.\n",
    "drop_prob_2 = 0.4   # dropout in the FC layer with probability 0.\n",
    "hidden_size = 128  # the FC layer will have 128neurons\n",
    "weight_penalty = 5e-4 # Factor for weights penalty\n",
    "\n",
    "model = Sequential()\n",
    "model.add( Conv2D(conv_depth_1, (kernel_size,kernel_size), padding='same', activation='relu', data_format=\"channels_last\", input_shape=( 28, 28, 1)) )\n",
    "model.add( MaxPooling2D(pool_size=(pool_size, pool_size)) )\n",
    "model.add( Dropout(drop_prob_1) )\n",
    "\n",
    "model.add( Conv2D(conv_depth_2, (kernel_size,kernel_size), padding='same', activation='relu') )\n",
    "model.add( MaxPooling2D(pool_size=(pool_size, pool_size)) )\n",
    "model.add( Dropout(drop_prob_1) )\n",
    "\n",
    "model.add( Flatten() )\n",
    "model.add( Dense(hidden_size, activation='relu', kernel_regularizer=regularizers.l2(weight_penalty)) )\n",
    "model.add( Dropout(drop_prob_2) )\n",
    "model.add( Dense(num_classes, activation='softmax') )\n",
    "\n",
    "print(model.summary())"
   ]
  },
  {
   "cell_type": "code",
   "execution_count": 26,
   "metadata": {},
   "outputs": [
    {
     "name": "stdout",
     "output_type": "stream",
     "text": [
      "Epoch 1/30\n",
      "1113/1125 [============================>.] - ETA: 0s - loss: 0.5085 - accuracy: 0.8653WARNING:tensorflow:Callbacks method `on_test_batch_end` is slow compared to the batch time (batch time: 0.0000s vs `on_test_batch_end` time: 0.0018s). Check your callbacks.\n",
      "1125/1125 [==============================] - 3s 3ms/step - loss: 0.5062 - accuracy: 0.8660 - val_loss: 0.1935 - val_accuracy: 0.9677\n",
      "Epoch 2/30\n",
      "1125/1125 [==============================] - 3s 3ms/step - loss: 0.2446 - accuracy: 0.9489 - val_loss: 0.1523 - val_accuracy: 0.9764\n",
      "Epoch 3/30\n",
      "1125/1125 [==============================] - 3s 3ms/step - loss: 0.2110 - accuracy: 0.9566 - val_loss: 0.1311 - val_accuracy: 0.9823\n",
      "Epoch 4/30\n",
      "1125/1125 [==============================] - 3s 3ms/step - loss: 0.1901 - accuracy: 0.9625 - val_loss: 0.1281 - val_accuracy: 0.9805\n",
      "Epoch 5/30\n",
      "1125/1125 [==============================] - 3s 3ms/step - loss: 0.1798 - accuracy: 0.9643 - val_loss: 0.1188 - val_accuracy: 0.9839\n",
      "Epoch 6/30\n",
      "1125/1125 [==============================] - 3s 3ms/step - loss: 0.1749 - accuracy: 0.9654 - val_loss: 0.1177 - val_accuracy: 0.9843\n",
      "Epoch 7/30\n",
      "1125/1125 [==============================] - 3s 3ms/step - loss: 0.1657 - accuracy: 0.9678 - val_loss: 0.1159 - val_accuracy: 0.9841\n",
      "Epoch 8/30\n",
      "1125/1125 [==============================] - 3s 3ms/step - loss: 0.1592 - accuracy: 0.9699 - val_loss: 0.1119 - val_accuracy: 0.9855\n",
      "Epoch 9/30\n",
      "1125/1125 [==============================] - 3s 3ms/step - loss: 0.1591 - accuracy: 0.9699 - val_loss: 0.1121 - val_accuracy: 0.9845\n",
      "Epoch 10/30\n",
      "1125/1125 [==============================] - 3s 3ms/step - loss: 0.1565 - accuracy: 0.9707 - val_loss: 0.1091 - val_accuracy: 0.9863\n",
      "Epoch 11/30\n",
      "1125/1125 [==============================] - 3s 3ms/step - loss: 0.1536 - accuracy: 0.9706 - val_loss: 0.1231 - val_accuracy: 0.9819\n",
      "Epoch 12/30\n",
      "1125/1125 [==============================] - 3s 3ms/step - loss: 0.1548 - accuracy: 0.9715 - val_loss: 0.1087 - val_accuracy: 0.9851\n",
      "Epoch 13/30\n",
      "1125/1125 [==============================] - 3s 3ms/step - loss: 0.1522 - accuracy: 0.9718 - val_loss: 0.1063 - val_accuracy: 0.9865\n",
      "Epoch 14/30\n",
      "1125/1125 [==============================] - 3s 3ms/step - loss: 0.1500 - accuracy: 0.9739 - val_loss: 0.1084 - val_accuracy: 0.9859\n",
      "Epoch 15/30\n",
      "1125/1125 [==============================] - 3s 3ms/step - loss: 0.1488 - accuracy: 0.9729 - val_loss: 0.1038 - val_accuracy: 0.9876\n",
      "Epoch 16/30\n",
      "1125/1125 [==============================] - 3s 3ms/step - loss: 0.1443 - accuracy: 0.9746 - val_loss: 0.1062 - val_accuracy: 0.9864\n",
      "Epoch 17/30\n",
      "1125/1125 [==============================] - 3s 3ms/step - loss: 0.1464 - accuracy: 0.9743 - val_loss: 0.1067 - val_accuracy: 0.9866\n",
      "Epoch 18/30\n",
      "1125/1125 [==============================] - 3s 3ms/step - loss: 0.1437 - accuracy: 0.9742 - val_loss: 0.1038 - val_accuracy: 0.9869\n",
      "Epoch 19/30\n",
      "1125/1125 [==============================] - 3s 3ms/step - loss: 0.1443 - accuracy: 0.9740 - val_loss: 0.1067 - val_accuracy: 0.9866\n",
      "Epoch 20/30\n",
      "1125/1125 [==============================] - 3s 3ms/step - loss: 0.1477 - accuracy: 0.9737 - val_loss: 0.1076 - val_accuracy: 0.9857\n",
      "Epoch 21/30\n",
      "1125/1125 [==============================] - 3s 3ms/step - loss: 0.1475 - accuracy: 0.9740 - val_loss: 0.1061 - val_accuracy: 0.9870\n",
      "Epoch 22/30\n",
      "1125/1125 [==============================] - 3s 3ms/step - loss: 0.1441 - accuracy: 0.9747 - val_loss: 0.1056 - val_accuracy: 0.9865\n",
      "Epoch 23/30\n",
      "1125/1125 [==============================] - 3s 3ms/step - loss: 0.1446 - accuracy: 0.9737 - val_loss: 0.1096 - val_accuracy: 0.9850\n",
      "Epoch 24/30\n",
      "1125/1125 [==============================] - 3s 3ms/step - loss: 0.1445 - accuracy: 0.9742 - val_loss: 0.1151 - val_accuracy: 0.9838\n",
      "Epoch 25/30\n",
      "1125/1125 [==============================] - 3s 3ms/step - loss: 0.1444 - accuracy: 0.9746 - val_loss: 0.1045 - val_accuracy: 0.9871\n",
      "Epoch 26/30\n",
      "1125/1125 [==============================] - 3s 3ms/step - loss: 0.1436 - accuracy: 0.9745 - val_loss: 0.1052 - val_accuracy: 0.9864\n",
      "Epoch 27/30\n",
      "1125/1125 [==============================] - 3s 3ms/step - loss: 0.1415 - accuracy: 0.9749 - val_loss: 0.1080 - val_accuracy: 0.9862\n",
      "Epoch 28/30\n",
      "1125/1125 [==============================] - 3s 3ms/step - loss: 0.1412 - accuracy: 0.9747 - val_loss: 0.1055 - val_accuracy: 0.9870\n",
      "Epoch 29/30\n",
      "1125/1125 [==============================] - 3s 3ms/step - loss: 0.1423 - accuracy: 0.9756 - val_loss: 0.1024 - val_accuracy: 0.9878\n",
      "Epoch 30/30\n",
      "1125/1125 [==============================] - 3s 3ms/step - loss: 0.1384 - accuracy: 0.9756 - val_loss: 0.1079 - val_accuracy: 0.9864\n",
      "313/313 [==============================] - 1s 2ms/step - loss: 0.0963 - accuracy: 0.9891\n",
      "The final loss on the TEST set is: 0.10.\n",
      "The final accuracy on the TEST set is: 0.99.\n"
     ]
    }
   ],
   "source": [
    "model.compile(loss='categorical_crossentropy', # using the cross-entropy loss function\n",
    "              optimizer='adam', # using the Adam optimiser\n",
    "              metrics=['accuracy']) # reporting the accuracy\n",
    "\n",
    "history = model.fit(X_train, Y_train, # Train the model using the training set...\n",
    "          batch_size=batch_size, epochs=num_epochs,\n",
    "          verbose=1, validation_split=0.4) # ...holding out 40% of the data for validation\n",
    "\n",
    "for loss_name, loss_value in list(zip(model.metrics_names, model.evaluate(X_test, Y_test, verbose=1))):\n",
    "    print('The final {} on the TEST set is: {:.2f}.'.format(loss_name, loss_value))"
   ]
  },
  {
   "cell_type": "code",
   "execution_count": 27,
   "metadata": {},
   "outputs": [
    {
     "data": {
      "image/png": "[encoded data removed]",
      "text/plain": [
       "<Figure size 432x288 with 1 Axes>"
      ]
     },
     "metadata": {
      "needs_background": "light"
     },
     "output_type": "display_data"
    }
   ],
   "source": [
    "import matplotlib.pyplot as plt\n",
    "plt.plot(history.history['loss'])\n",
    "plt.plot(history.history['val_loss'])\n",
    "plt.title('Model loss by epoch')\n",
    "plt.ylabel('loss')\n",
    "plt.xlabel('epoch')\n",
    "plt.legend(['train', 'valid'], loc='right')\n",
    "plt.show()"
   ]
  },
  {
   "cell_type": "code",
   "execution_count": null,
   "metadata": {},
   "outputs": [],
   "source": []
  }
 ],
 "metadata": {
  "accelerator": "GPU",
  "colab": {
   "collapsed_sections": [],
   "name": "convnet-notebook_tstColab.ipynb",
   "provenance": []
  },
  "kernelspec": {
   "display_name": "Python 3",
   "language": "python",
   "name": "python3"
  },
  "language_info": {
   "codemirror_mode": {
    "name": "ipython",
    "version": 3
   },
   "file_extension": ".py",
   "mimetype": "text/x-python",
   "name": "python",
   "nbconvert_exporter": "python",
   "pygments_lexer": "ipython3",
   "version": "3.7.9"
  }
 },
 "nbformat": 4,
 "nbformat_minor": 1
}
