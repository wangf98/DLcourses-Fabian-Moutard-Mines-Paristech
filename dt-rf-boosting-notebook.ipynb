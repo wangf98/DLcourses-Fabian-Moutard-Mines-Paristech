{
 "cells": [
  {
   "cell_type": "markdown",
   "metadata": {},
   "source": [
    "\n",
    "# Training a Decision Tree or a Random Forest on a classification problem, and compare the latter with using adaBoost\n",
    "\n",
    "**Author: Pr Fabien MOUTARDE, Center for Robotics, MINES ParisTech, PSL Université Paris**\n"
   ]
  },
  {
   "cell_type": "markdown",
   "metadata": {},
   "source": [
    "## 1. Decision Trees with SciKit-Learn on a very simple dataset\n",
    "\n",
    "**We will first work on very simple classic dataset: Iris, which is a classification problem corresponding to determination of iris flower sub-species based on a few geometric characteristics of the flower.**\n",
    "\n",
    "**Please FIRST READ the [*Iris DATASET DESCRIPTION*](http://scikit-learn.org/stable/auto_examples/datasets/plot_iris_dataset.html#sphx-glr-auto-examples-datasets-plot-iris-dataset-py).**\n",
    "In this classification problem, there are 3 classes, with a total of 150 examples (each one with 4 input). Please **now execute code cell below to load and view the dataset**.\n"
   ]
  },
  {
   "cell_type": "code",
   "execution_count": 1,
   "metadata": {
    "scrolled": false
   },
   "outputs": [
    {
     "name": "stdout",
     "output_type": "stream",
     "text": [
      "(Number_of_examples, example_size) =  (150, 4) \n",
      "\n",
      "Input =  [5.1 3.5 1.4 0.2]  , Label =  0\n",
      "Input =  [4.9 3.  1.4 0.2]  , Label =  0\n",
      "Input =  [4.7 3.2 1.3 0.2]  , Label =  0\n",
      "Input =  [4.6 3.1 1.5 0.2]  , Label =  0\n",
      "Input =  [5.  3.6 1.4 0.2]  , Label =  0\n",
      "Input =  [5.4 3.9 1.7 0.4]  , Label =  0\n",
      "Input =  [4.6 3.4 1.4 0.3]  , Label =  0\n",
      "Input =  [5.  3.4 1.5 0.2]  , Label =  0\n",
      "Input =  [4.4 2.9 1.4 0.2]  , Label =  0\n",
      "Input =  [4.9 3.1 1.5 0.1]  , Label =  0\n",
      "Input =  [5.4 3.7 1.5 0.2]  , Label =  0\n",
      "Input =  [4.8 3.4 1.6 0.2]  , Label =  0\n",
      "Input =  [4.8 3.  1.4 0.1]  , Label =  0\n",
      "Input =  [4.3 3.  1.1 0.1]  , Label =  0\n",
      "Input =  [5.8 4.  1.2 0.2]  , Label =  0\n",
      "Input =  [5.7 4.4 1.5 0.4]  , Label =  0\n",
      "Input =  [5.4 3.9 1.3 0.4]  , Label =  0\n",
      "Input =  [5.1 3.5 1.4 0.3]  , Label =  0\n",
      "Input =  [5.7 3.8 1.7 0.3]  , Label =  0\n",
      "Input =  [5.1 3.8 1.5 0.3]  , Label =  0\n",
      "Input =  [5.4 3.4 1.7 0.2]  , Label =  0\n",
      "Input =  [5.1 3.7 1.5 0.4]  , Label =  0\n",
      "Input =  [4.6 3.6 1.  0.2]  , Label =  0\n",
      "Input =  [5.1 3.3 1.7 0.5]  , Label =  0\n",
      "Input =  [4.8 3.4 1.9 0.2]  , Label =  0\n",
      "Input =  [5.  3.  1.6 0.2]  , Label =  0\n",
      "Input =  [5.  3.4 1.6 0.4]  , Label =  0\n",
      "Input =  [5.2 3.5 1.5 0.2]  , Label =  0\n",
      "Input =  [5.2 3.4 1.4 0.2]  , Label =  0\n",
      "Input =  [4.7 3.2 1.6 0.2]  , Label =  0\n",
      "Input =  [4.8 3.1 1.6 0.2]  , Label =  0\n",
      "Input =  [5.4 3.4 1.5 0.4]  , Label =  0\n",
      "Input =  [5.2 4.1 1.5 0.1]  , Label =  0\n",
      "Input =  [5.5 4.2 1.4 0.2]  , Label =  0\n",
      "Input =  [4.9 3.1 1.5 0.2]  , Label =  0\n",
      "Input =  [5.  3.2 1.2 0.2]  , Label =  0\n",
      "Input =  [5.5 3.5 1.3 0.2]  , Label =  0\n",
      "Input =  [4.9 3.6 1.4 0.1]  , Label =  0\n",
      "Input =  [4.4 3.  1.3 0.2]  , Label =  0\n",
      "Input =  [5.1 3.4 1.5 0.2]  , Label =  0\n",
      "Input =  [5.  3.5 1.3 0.3]  , Label =  0\n",
      "Input =  [4.5 2.3 1.3 0.3]  , Label =  0\n",
      "Input =  [4.4 3.2 1.3 0.2]  , Label =  0\n",
      "Input =  [5.  3.5 1.6 0.6]  , Label =  0\n",
      "Input =  [5.1 3.8 1.9 0.4]  , Label =  0\n",
      "Input =  [4.8 3.  1.4 0.3]  , Label =  0\n",
      "Input =  [5.1 3.8 1.6 0.2]  , Label =  0\n",
      "Input =  [4.6 3.2 1.4 0.2]  , Label =  0\n",
      "Input =  [5.3 3.7 1.5 0.2]  , Label =  0\n",
      "Input =  [5.  3.3 1.4 0.2]  , Label =  0\n",
      "Input =  [7.  3.2 4.7 1.4]  , Label =  1\n",
      "Input =  [6.4 3.2 4.5 1.5]  , Label =  1\n",
      "Input =  [6.9 3.1 4.9 1.5]  , Label =  1\n",
      "Input =  [5.5 2.3 4.  1.3]  , Label =  1\n",
      "Input =  [6.5 2.8 4.6 1.5]  , Label =  1\n",
      "Input =  [5.7 2.8 4.5 1.3]  , Label =  1\n",
      "Input =  [6.3 3.3 4.7 1.6]  , Label =  1\n",
      "Input =  [4.9 2.4 3.3 1. ]  , Label =  1\n",
      "Input =  [6.6 2.9 4.6 1.3]  , Label =  1\n",
      "Input =  [5.2 2.7 3.9 1.4]  , Label =  1\n",
      "Input =  [5.  2.  3.5 1. ]  , Label =  1\n",
      "Input =  [5.9 3.  4.2 1.5]  , Label =  1\n",
      "Input =  [6.  2.2 4.  1. ]  , Label =  1\n",
      "Input =  [6.1 2.9 4.7 1.4]  , Label =  1\n",
      "Input =  [5.6 2.9 3.6 1.3]  , Label =  1\n",
      "Input =  [6.7 3.1 4.4 1.4]  , Label =  1\n",
      "Input =  [5.6 3.  4.5 1.5]  , Label =  1\n",
      "Input =  [5.8 2.7 4.1 1. ]  , Label =  1\n",
      "Input =  [6.2 2.2 4.5 1.5]  , Label =  1\n",
      "Input =  [5.6 2.5 3.9 1.1]  , Label =  1\n",
      "Input =  [5.9 3.2 4.8 1.8]  , Label =  1\n",
      "Input =  [6.1 2.8 4.  1.3]  , Label =  1\n",
      "Input =  [6.3 2.5 4.9 1.5]  , Label =  1\n",
      "Input =  [6.1 2.8 4.7 1.2]  , Label =  1\n",
      "Input =  [6.4 2.9 4.3 1.3]  , Label =  1\n",
      "Input =  [6.6 3.  4.4 1.4]  , Label =  1\n",
      "Input =  [6.8 2.8 4.8 1.4]  , Label =  1\n",
      "Input =  [6.7 3.  5.  1.7]  , Label =  1\n",
      "Input =  [6.  2.9 4.5 1.5]  , Label =  1\n",
      "Input =  [5.7 2.6 3.5 1. ]  , Label =  1\n",
      "Input =  [5.5 2.4 3.8 1.1]  , Label =  1\n",
      "Input =  [5.5 2.4 3.7 1. ]  , Label =  1\n",
      "Input =  [5.8 2.7 3.9 1.2]  , Label =  1\n",
      "Input =  [6.  2.7 5.1 1.6]  , Label =  1\n",
      "Input =  [5.4 3.  4.5 1.5]  , Label =  1\n",
      "Input =  [6.  3.4 4.5 1.6]  , Label =  1\n",
      "Input =  [6.7 3.1 4.7 1.5]  , Label =  1\n",
      "Input =  [6.3 2.3 4.4 1.3]  , Label =  1\n",
      "Input =  [5.6 3.  4.1 1.3]  , Label =  1\n",
      "Input =  [5.5 2.5 4.  1.3]  , Label =  1\n",
      "Input =  [5.5 2.6 4.4 1.2]  , Label =  1\n",
      "Input =  [6.1 3.  4.6 1.4]  , Label =  1\n",
      "Input =  [5.8 2.6 4.  1.2]  , Label =  1\n",
      "Input =  [5.  2.3 3.3 1. ]  , Label =  1\n",
      "Input =  [5.6 2.7 4.2 1.3]  , Label =  1\n",
      "Input =  [5.7 3.  4.2 1.2]  , Label =  1\n",
      "Input =  [5.7 2.9 4.2 1.3]  , Label =  1\n",
      "Input =  [6.2 2.9 4.3 1.3]  , Label =  1\n",
      "Input =  [5.1 2.5 3.  1.1]  , Label =  1\n",
      "Input =  [5.7 2.8 4.1 1.3]  , Label =  1\n",
      "Input =  [6.3 3.3 6.  2.5]  , Label =  2\n",
      "Input =  [5.8 2.7 5.1 1.9]  , Label =  2\n",
      "Input =  [7.1 3.  5.9 2.1]  , Label =  2\n",
      "Input =  [6.3 2.9 5.6 1.8]  , Label =  2\n",
      "Input =  [6.5 3.  5.8 2.2]  , Label =  2\n",
      "Input =  [7.6 3.  6.6 2.1]  , Label =  2\n",
      "Input =  [4.9 2.5 4.5 1.7]  , Label =  2\n",
      "Input =  [7.3 2.9 6.3 1.8]  , Label =  2\n",
      "Input =  [6.7 2.5 5.8 1.8]  , Label =  2\n",
      "Input =  [7.2 3.6 6.1 2.5]  , Label =  2\n",
      "Input =  [6.5 3.2 5.1 2. ]  , Label =  2\n",
      "Input =  [6.4 2.7 5.3 1.9]  , Label =  2\n",
      "Input =  [6.8 3.  5.5 2.1]  , Label =  2\n",
      "Input =  [5.7 2.5 5.  2. ]  , Label =  2\n",
      "Input =  [5.8 2.8 5.1 2.4]  , Label =  2\n",
      "Input =  [6.4 3.2 5.3 2.3]  , Label =  2\n",
      "Input =  [6.5 3.  5.5 1.8]  , Label =  2\n",
      "Input =  [7.7 3.8 6.7 2.2]  , Label =  2\n",
      "Input =  [7.7 2.6 6.9 2.3]  , Label =  2\n",
      "Input =  [6.  2.2 5.  1.5]  , Label =  2\n",
      "Input =  [6.9 3.2 5.7 2.3]  , Label =  2\n",
      "Input =  [5.6 2.8 4.9 2. ]  , Label =  2\n",
      "Input =  [7.7 2.8 6.7 2. ]  , Label =  2\n",
      "Input =  [6.3 2.7 4.9 1.8]  , Label =  2\n",
      "Input =  [6.7 3.3 5.7 2.1]  , Label =  2\n",
      "Input =  [7.2 3.2 6.  1.8]  , Label =  2\n",
      "Input =  [6.2 2.8 4.8 1.8]  , Label =  2\n",
      "Input =  [6.1 3.  4.9 1.8]  , Label =  2\n",
      "Input =  [6.4 2.8 5.6 2.1]  , Label =  2\n",
      "Input =  [7.2 3.  5.8 1.6]  , Label =  2\n",
      "Input =  [7.4 2.8 6.1 1.9]  , Label =  2\n",
      "Input =  [7.9 3.8 6.4 2. ]  , Label =  2\n",
      "Input =  [6.4 2.8 5.6 2.2]  , Label =  2\n",
      "Input =  [6.3 2.8 5.1 1.5]  , Label =  2\n",
      "Input =  [6.1 2.6 5.6 1.4]  , Label =  2\n",
      "Input =  [7.7 3.  6.1 2.3]  , Label =  2\n",
      "Input =  [6.3 3.4 5.6 2.4]  , Label =  2\n",
      "Input =  [6.4 3.1 5.5 1.8]  , Label =  2\n",
      "Input =  [6.  3.  4.8 1.8]  , Label =  2\n",
      "Input =  [6.9 3.1 5.4 2.1]  , Label =  2\n",
      "Input =  [6.7 3.1 5.6 2.4]  , Label =  2\n",
      "Input =  [6.9 3.1 5.1 2.3]  , Label =  2\n",
      "Input =  [5.8 2.7 5.1 1.9]  , Label =  2\n",
      "Input =  [6.8 3.2 5.9 2.3]  , Label =  2\n",
      "Input =  [6.7 3.3 5.7 2.5]  , Label =  2\n",
      "Input =  [6.7 3.  5.2 2.3]  , Label =  2\n",
      "Input =  [6.3 2.5 5.  1.9]  , Label =  2\n",
      "Input =  [6.5 3.  5.2 2. ]  , Label =  2\n",
      "Input =  [6.2 3.4 5.4 2.3]  , Label =  2\n",
      "Input =  [5.9 3.  5.1 1.8]  , Label =  2\n"
     ]
    }
   ],
   "source": [
    "import numpy as np\n",
    "\n",
    "from matplotlib import pyplot as plt\n",
    "from matplotlib.colors import ListedColormap\n",
    "\n",
    "from sklearn import preprocessing \n",
    "from sklearn.preprocessing import StandardScaler\n",
    "\n",
    "# Load Iris classification dataset\n",
    "from sklearn.datasets import load_iris\n",
    "iris = load_iris()\n",
    "\n",
    "# Print all 150 examples\n",
    "print(\"(Number_of_examples, example_size) = \" , iris.data.shape, \"\\n\")\n",
    "for i in range(0, 150) :\n",
    "    print('Input = ', iris.data[i], ' , Label = ', iris.target[i] )\n"
   ]
  },
  {
   "cell_type": "markdown",
   "metadata": {},
   "source": [
    "**Building, training and evaluating a simple Decision Tree classifier**\n",
    "\n",
    "The SciKit-learn class for Decision Tree classifiers is sklearn.tree.DecisionTreeClassifier.\n",
    "\n",
    "**Please FIRST READ (and understand!) the [*DecisionTreeClassifier DOCUMENTATION*](http://scikit-learn.org/stable/modules/generated/sklearn.tree.DecisionTreeClassifier.html#sklearn.tree.DecisionTreeClassifier) to understand all parameters of the contructor.**\n",
    "\n",
    "**You can then begin by running the code block below, in which default set of parameter values has been used.** If graphical view works, look at the structure of the learnt decision tree.\n",
    "\n",
    "**Then, check the influence of MAIN parameters for Decision Tree classifier, i.e.:**\n",
    " - **homegeneity criterion ('gini' or 'entropy')**\n",
    " - **max_depth**\n",
    " - **min_samples_split**\n",
    " \n",
    "NB : Note that post-training *PRUNING* IS unfortunately *NOT* implemented in SciKit-Learn Decision-Trees :("
   ]
  },
  {
   "cell_type": "code",
   "execution_count": 2,
   "metadata": {},
   "outputs": [
    {
     "name": "stderr",
     "output_type": "stream",
     "text": [
      "C:\\Users\\wangfu\\Anaconda3\\lib\\site-packages\\sklearn\\tree\\_classes.py:310: FutureWarning: The min_impurity_split parameter is deprecated. Its default value has changed from 1e-7 to 0 in version 0.23, and it will be removed in 0.25. Use the min_impurity_decrease parameter instead.\n",
      "  FutureWarning)\n",
      "C:\\Users\\wangfu\\Anaconda3\\lib\\site-packages\\sklearn\\tree\\_classes.py:327: FutureWarning: The parameter 'presort' is deprecated and has no effect. It will be removed in v0.24. You can suppress this warning by not passing any value to the 'presort' parameter.\n",
      "  FutureWarning)\n"
     ]
    },
    {
     "name": "stdout",
     "output_type": "stream",
     "text": [
      "DecisionTreeClassifier(criterion='entropy', max_depth=5,\n",
      "                       min_impurity_split=1e-07, presort=False)\n",
      "Acuracy (on test set) =  0.9333333333333333\n",
      "              precision    recall  f1-score   support\n",
      "\n",
      "           0       1.00      1.00      1.00        15\n",
      "           1       0.82      1.00      0.90        14\n",
      "           2       1.00      0.81      0.90        16\n",
      "\n",
      "    accuracy                           0.93        45\n",
      "   macro avg       0.94      0.94      0.93        45\n",
      "weighted avg       0.95      0.93      0.93        45\n",
      "\n",
      "\n",
      " CONFUSION MATRIX\n",
      "[[15  0  0]\n",
      " [ 0 14  0]\n",
      " [ 0  3 13]]\n"
     ]
    },
    {
     "data": {
      "image/png": "[encoded data removed]",
      "text/plain": [
       "<Figure size 432x288 with 1 Axes>"
      ]
     },
     "metadata": {
      "needs_background": "light"
     },
     "output_type": "display_data"
    }
   ],
   "source": [
    "from sklearn.model_selection import train_test_split\n",
    "\n",
    "# Split dataset into training and test part\n",
    "X_train, X_test, y_train, y_test = train_test_split(iris.data, iris.target, test_size=0.3)\n",
    "\n",
    "# Learn a Decision Tree\n",
    "from sklearn import tree\n",
    "clf = tree.DecisionTreeClassifier(criterion='entropy', splitter='best', max_depth=5, \n",
    "                                  min_samples_split=2, min_samples_leaf=1, \n",
    "                                  min_weight_fraction_leaf=0.0, max_features=None, \n",
    "                                  random_state=None, max_leaf_nodes=None, \n",
    "                                  min_impurity_split=1e-07, class_weight=None, presort=False)\n",
    "clf = clf.fit(X_train, y_train)\n",
    "\n",
    "# Graphical view of learnt Decision Tree\n",
    "tree.plot_tree(clf) \n",
    "\n",
    "# Evaluate acuracy on test data\n",
    "print(clf)\n",
    "score = clf.score(X_test, y_test)\n",
    "print(\"Acuracy (on test set) = \", score)\n",
    "from sklearn.metrics import classification_report\n",
    "from sklearn.metrics import confusion_matrix\n",
    "y_true, y_pred = y_test, clf.predict(X_test)\n",
    "print( classification_report(y_true, y_pred) )\n",
    "print(\"\\n CONFUSION MATRIX\")\n",
    "print( confusion_matrix(y_true, y_pred) )\n"
   ]
  },
  {
   "cell_type": "markdown",
   "metadata": {},
   "source": [
    "## 2. Decision Trees on a  MORE REALISTIC DATASET: HANDWRITTEN DIGITS\n",
    "\n",
    "**Please FIRST READ the [*Digits DATASET DESCRIPTION*](http://scikit-learn.org/stable/auto_examples/datasets/plot_digits_last_image.html#sphx-glr-auto-examples-datasets-plot-digits-last-image-py).**\n",
    "\n",
    "In this classification problem, there are 10 classes, with a total of 1797 examples (each one being a 64D vector corresponding to an 8x8 pixmap). Please **now execute code cell below to load the dataset, visualize a typical example, and train a Desicion Tree on it**. \n",
    "The original code uses a **voluntarily SUBOPTIMAL set of learning hyperparameters values, which reaches ~66% test acuracy. Try to play with them in order to improve acuracy.**\n"
   ]
  },
  {
   "cell_type": "code",
   "execution_count": 3,
   "metadata": {
    "scrolled": true
   },
   "outputs": [
    {
     "name": "stdout",
     "output_type": "stream",
     "text": [
      "Number_of-examples =  1797\n",
      "\n",
      " Plot of first example\n"
     ]
    },
    {
     "data": {
      "text/plain": [
       "<Figure size 432x288 with 0 Axes>"
      ]
     },
     "metadata": {},
     "output_type": "display_data"
    },
    {
     "data": {
      "image/png": "[encoded data removed]",
      "text/plain": [
       "<Figure size 288x288 with 1 Axes>"
      ]
     },
     "metadata": {
      "needs_background": "light"
     },
     "output_type": "display_data"
    },
    {
     "name": "stdout",
     "output_type": "stream",
     "text": [
      "DecisionTreeClassifier(max_depth=5, min_impurity_split=1e-07,\n",
      "                       min_samples_split=4, presort=False)\n",
      "Acuracy (on test set) =  0.6384872080088988\n",
      "              precision    recall  f1-score   support\n",
      "\n",
      "           0       0.92      0.95      0.93        81\n",
      "           1       0.36      0.27      0.31        88\n",
      "           2       0.63      0.13      0.22        90\n",
      "           3       0.44      0.72      0.54        93\n",
      "           4       0.84      0.70      0.77        98\n",
      "           5       0.94      0.87      0.90        91\n",
      "           6       0.86      0.89      0.87        89\n",
      "           7       0.77      0.88      0.82        83\n",
      "           8       0.33      0.71      0.45        87\n",
      "           9       0.94      0.32      0.48        99\n",
      "\n",
      "    accuracy                           0.64       899\n",
      "   macro avg       0.70      0.65      0.63       899\n",
      "weighted avg       0.70      0.64      0.63       899\n",
      "\n",
      "\n",
      " CONFUSION MATRIX\n",
      "[[77  0  0  0  1  0  1  0  2  0]\n",
      " [ 0 24  0 12  2  0  3  2 45  0]\n",
      " [ 1 12 12  4  0  0  6  0 55  0]\n",
      " [ 0 11  2 67  1  1  0  2  8  1]\n",
      " [ 6  4  2  2 69  0  3  5  7  0]\n",
      " [ 0  4  1  4  2 79  0  1  0  0]\n",
      " [ 0  4  1  0  4  1 79  0  0  0]\n",
      " [ 0  1  1  0  2  0  0 73  6  0]\n",
      " [ 0  5  0 15  0  0  0  4 62  1]\n",
      " [ 0  2  0 50  1  3  0  8  3 32]]\n"
     ]
    },
    {
     "name": "stderr",
     "output_type": "stream",
     "text": [
      "C:\\Users\\wangfu\\Anaconda3\\lib\\site-packages\\sklearn\\tree\\_classes.py:310: FutureWarning: The min_impurity_split parameter is deprecated. Its default value has changed from 1e-7 to 0 in version 0.23, and it will be removed in 0.25. Use the min_impurity_decrease parameter instead.\n",
      "  FutureWarning)\n",
      "C:\\Users\\wangfu\\Anaconda3\\lib\\site-packages\\sklearn\\tree\\_classes.py:327: FutureWarning: The parameter 'presort' is deprecated and has no effect. It will be removed in v0.24. You can suppress this warning by not passing any value to the 'presort' parameter.\n",
      "  FutureWarning)\n"
     ]
    }
   ],
   "source": [
    "from sklearn.datasets import load_digits\n",
    "digits = load_digits()\n",
    "n_samples = len(digits.images)\n",
    "print(\"Number_of-examples = \", n_samples)\n",
    "\n",
    "import matplotlib.pyplot as plt\n",
    "print(\"\\n Plot of first example\")\n",
    "plt.gray() \n",
    "plt.matshow(digits.images[0]) \n",
    "plt.show() \n",
    "\n",
    "# Flatten the images, to turn data in a (samples, feature) matrix:\n",
    "data = digits.images.reshape((n_samples, -1))\n",
    "\n",
    "# Split dataset into training and test part\n",
    "X = data\n",
    "y = digits.target\n",
    "X_train, X_test, y_train, y_test = train_test_split(X, y, test_size=0.5)\n",
    "\n",
    "# Create and train a Decision Tree Classifier\n",
    "clf = tree.DecisionTreeClassifier(criterion='gini', splitter='best', max_depth=5, \n",
    "                                  min_samples_split=4, min_samples_leaf=1, \n",
    "                                  min_weight_fraction_leaf=0.0, max_features=None, \n",
    "                                  random_state=None, max_leaf_nodes=None, \n",
    "                                  min_impurity_split=1e-07, class_weight=None, presort=False)\n",
    "clf = clf.fit(X_train, y_train)\n",
    "\n",
    "\n",
    "# Evaluate acuracy on test data\n",
    "print(clf)\n",
    "score = clf.score(X_test, y_test)\n",
    "print(\"Acuracy (on test set) = \", score)\n",
    "from sklearn.metrics import classification_report\n",
    "from sklearn.metrics import confusion_matrix\n",
    "y_true, y_pred = y_test, clf.predict(X_test)\n",
    "print( classification_report(y_true, y_pred) )\n",
    "print(\"\\n CONFUSION MATRIX\")\n",
    "print( confusion_matrix(y_true, y_pred) )\n"
   ]
  },
  {
   "cell_type": "markdown",
   "metadata": {},
   "source": [
    "__Question: According to the confusion matrices, what digits are the most confused with each other?__\n",
    "\n",
    "__Answer:__ 1 and 7, 2 and 7, 3 and 9"
   ]
  },
  {
   "cell_type": "markdown",
   "metadata": {},
   "source": [
    "**Finally, find somewhat optimized values for the set of 3 main hyper-parameters for DecisionTree learning, by using GRID-SEARCH WITH CROSS-VALIDATION** (see cross-validation example from the Multi-Layer Perceptron notebook used in earlier practical session). __Put the code in the cell below:__"
   ]
  },
  {
   "cell_type": "code",
   "execution_count": 7,
   "metadata": {},
   "outputs": [
    {
     "data": {
      "text/plain": [
       "GridSearchCV(cv=3, estimator=DecisionTreeClassifier(),\n",
       "             param_grid=[{'criterion': ('entropy', 'gini'),\n",
       "                          'max_depth': [5, 10, 20, 50],\n",
       "                          'min_samples_split': [2, 4, 6, 8]}],\n",
       "             scoring='accuracy')"
      ]
     },
     "execution_count": 7,
     "metadata": {},
     "output_type": "execute_result"
    }
   ],
   "source": [
    "from sklearn.model_selection import GridSearchCV\n",
    "from sklearn.neural_network import MLPClassifier\n",
    "from sklearn.metrics import classification_report\n",
    "\n",
    "param_grid = [\n",
    "  {'criterion':('entropy', 'gini'), \n",
    "   'max_depth':[5, 10, 20, 50],\n",
    "   'min_samples_split': [2, 4, 6, 8]}\n",
    " ]\n",
    "\n",
    "# Cross-validation grid-search (for finding best possible accuracy)\n",
    "clf = GridSearchCV(tree.DecisionTreeClassifier(splitter='best', \n",
    "                                  min_samples_leaf=1, \n",
    "                                  min_weight_fraction_leaf=0.0, max_features=None, \n",
    "                                  random_state=None, max_leaf_nodes=None, \n",
    "                                  ) , \n",
    "                   param_grid, cv=3, scoring='accuracy') \n",
    "# NOTE THAT YOU CAN USE OTHER VALUE FOR cv (# of folds) and OTHER SCORING CRITERIA OTHER THAN 'accuracy'\n",
    "    \n",
    "clf.fit(X, y)"
   ]
  },
  {
   "cell_type": "code",
   "execution_count": 8,
   "metadata": {},
   "outputs": [
    {
     "name": "stdout",
     "output_type": "stream",
     "text": [
      "Acuracy (on test set) =  0.9866518353726362\n",
      "              precision    recall  f1-score   support\n",
      "\n",
      "           0       0.98      0.99      0.99       178\n",
      "           1       0.97      1.00      0.98       182\n",
      "           2       0.98      0.99      0.99       177\n",
      "           3       0.98      0.99      0.99       183\n",
      "           4       0.99      0.99      0.99       181\n",
      "           5       0.99      0.99      0.99       182\n",
      "           6       0.99      0.97      0.98       181\n",
      "           7       0.99      0.99      0.99       179\n",
      "           8       1.00      0.98      0.99       174\n",
      "           9       1.00      0.97      0.99       180\n",
      "\n",
      "    accuracy                           0.99      1797\n",
      "   macro avg       0.99      0.99      0.99      1797\n",
      "weighted avg       0.99      0.99      0.99      1797\n",
      "\n",
      "\n",
      " CONFUSION MATRIX\n",
      "[[177   0   1   0   0   0   0   0   0   0]\n",
      " [  0 182   0   0   0   0   0   0   0   0]\n",
      " [  0   1 176   0   0   0   0   0   0   0]\n",
      " [  0   0   2 181   0   0   0   0   0   0]\n",
      " [  2   0   0   0 179   0   0   0   0   0]\n",
      " [  0   0   1   1   0 180   0   0   0   0]\n",
      " [  2   2   0   0   0   1 176   0   0   0]\n",
      " [  0   0   0   0   0   1   0 178   0   0]\n",
      " [  0   1   0   1   0   0   1   1 170   0]\n",
      " [  0   2   0   1   2   0   0   0   0 175]]\n",
      "DecisionTreeClassifier(criterion='entropy', max_depth=50, min_samples_split=4)\n"
     ]
    }
   ],
   "source": [
    "score = clf.score(X_test, y_test)\n",
    "print(\"Acuracy (on test set) = \", score)\n",
    "from sklearn.metrics import classification_report\n",
    "from sklearn.metrics import confusion_matrix\n",
    "y_true, y_pred = y, clf.predict(X)\n",
    "print( classification_report(y_true, y_pred) )\n",
    "print(\"\\n CONFUSION MATRIX\")\n",
    "print( confusion_matrix(y_true, y_pred) )\n",
    "print(clf.best_estimator_)"
   ]
  },
  {
   "cell_type": "markdown",
   "metadata": {},
   "source": [
    "__Question: What best value have you managed to reach for TEST accuracy of your DecisionTree after you properly gridSearched its hyper-parameters using CrossValidation?__\n",
    "\n",
    "__Answer:__ The best value that I have got is $accuracy = 0.99$, with $citerion = 'entropy'$, $max\\_depth = 50$ and $min\\_sample\\_split = 4$.\n",
    "\n",
    "\n",
    "In order to improve result, the most natural step is to combine SEVERAL decision trees, using the Ensemble model called Random Forest: see below"
   ]
  },
  {
   "cell_type": "markdown",
   "metadata": {},
   "source": [
    "## 3. Building, training and evaluating a Random Forest classifier\n",
    "\n",
    "The SciKit-learn class for Random Forest classifiers is sklearn.ensemble.RandomForestClassifier.\n",
    "\n",
    "**Please FIRST READ (and understand!) the [*RandomForestClassifier DOCUMENTATION*](http://scikit-learn.org/stable/modules/generated/sklearn.ensemble.RandomForestClassifier.html) to understand all parameters of the contructor.**\n",
    "\n",
    "**Then you can begin by running the code block below, in which default set of parameter values has been used.** As you will see, a RandomForest (even rather small) can easily outperform single Decision Tree. \n",
    "\n",
    "**Then, check the influence of MAIN parameters for Random Forest classifier, i.e.:**\n",
    " - **n_estimators (number of trees in forest)**\n",
    " - **max_depth**\n",
    " - **max_features (max number of features used in each tree)**\n"
   ]
  },
  {
   "cell_type": "code",
   "execution_count": 9,
   "metadata": {},
   "outputs": [
    {
     "name": "stdout",
     "output_type": "stream",
     "text": [
      "n_estimators= 10  max_depth= None max_features= auto\n",
      "RandomForestClassifier(min_impurity_split=1e-07, n_estimators=10, n_jobs=1)\n",
      "Acuracy (on test set) =  0.9199110122358176\n",
      "              precision    recall  f1-score   support\n",
      "\n",
      "           0       0.95      0.96      0.96        81\n",
      "           1       0.85      0.95      0.90        88\n",
      "           2       0.92      0.93      0.93        90\n",
      "           3       0.93      0.94      0.93        93\n",
      "           4       0.95      0.90      0.92        98\n",
      "           5       0.94      0.93      0.94        91\n",
      "           6       0.96      0.97      0.96        89\n",
      "           7       0.89      0.99      0.94        83\n",
      "           8       0.90      0.82      0.86        87\n",
      "           9       0.92      0.83      0.87        99\n",
      "\n",
      "    accuracy                           0.92       899\n",
      "   macro avg       0.92      0.92      0.92       899\n",
      "weighted avg       0.92      0.92      0.92       899\n",
      "\n",
      "\n",
      " CONFUSION MATRIX\n",
      "[[78  0  0  0  2  0  0  0  0  1]\n",
      " [ 0 84  1  1  1  0  0  0  1  0]\n",
      " [ 1  0 84  1  1  0  1  1  1  0]\n",
      " [ 0  1  2 87  0  2  0  1  0  0]\n",
      " [ 1  4  0  0 88  0  3  2  0  0]\n",
      " [ 2  0  0  0  0 85  0  0  2  2]\n",
      " [ 0  0  0  0  1  1 86  0  0  1]\n",
      " [ 0  1  0  0  0  0  0 82  0  0]\n",
      " [ 0  7  4  2  0  0  0  0 71  3]\n",
      " [ 0  2  0  3  0  2  0  6  4 82]]\n"
     ]
    },
    {
     "name": "stderr",
     "output_type": "stream",
     "text": [
      "C:\\Users\\wangfu\\Anaconda3\\lib\\site-packages\\sklearn\\tree\\_classes.py:310: FutureWarning: The min_impurity_split parameter is deprecated. Its default value has changed from 1e-7 to 0 in version 0.23, and it will be removed in 0.25. Use the min_impurity_decrease parameter instead.\n",
      "  FutureWarning)\n",
      "C:\\Users\\wangfu\\Anaconda3\\lib\\site-packages\\sklearn\\tree\\_classes.py:310: FutureWarning: The min_impurity_split parameter is deprecated. Its default value has changed from 1e-7 to 0 in version 0.23, and it will be removed in 0.25. Use the min_impurity_decrease parameter instead.\n",
      "  FutureWarning)\n",
      "C:\\Users\\wangfu\\Anaconda3\\lib\\site-packages\\sklearn\\tree\\_classes.py:310: FutureWarning: The min_impurity_split parameter is deprecated. Its default value has changed from 1e-7 to 0 in version 0.23, and it will be removed in 0.25. Use the min_impurity_decrease parameter instead.\n",
      "  FutureWarning)\n",
      "C:\\Users\\wangfu\\Anaconda3\\lib\\site-packages\\sklearn\\tree\\_classes.py:310: FutureWarning: The min_impurity_split parameter is deprecated. Its default value has changed from 1e-7 to 0 in version 0.23, and it will be removed in 0.25. Use the min_impurity_decrease parameter instead.\n",
      "  FutureWarning)\n",
      "C:\\Users\\wangfu\\Anaconda3\\lib\\site-packages\\sklearn\\tree\\_classes.py:310: FutureWarning: The min_impurity_split parameter is deprecated. Its default value has changed from 1e-7 to 0 in version 0.23, and it will be removed in 0.25. Use the min_impurity_decrease parameter instead.\n",
      "  FutureWarning)\n",
      "C:\\Users\\wangfu\\Anaconda3\\lib\\site-packages\\sklearn\\tree\\_classes.py:310: FutureWarning: The min_impurity_split parameter is deprecated. Its default value has changed from 1e-7 to 0 in version 0.23, and it will be removed in 0.25. Use the min_impurity_decrease parameter instead.\n",
      "  FutureWarning)\n",
      "C:\\Users\\wangfu\\Anaconda3\\lib\\site-packages\\sklearn\\tree\\_classes.py:310: FutureWarning: The min_impurity_split parameter is deprecated. Its default value has changed from 1e-7 to 0 in version 0.23, and it will be removed in 0.25. Use the min_impurity_decrease parameter instead.\n",
      "  FutureWarning)\n",
      "C:\\Users\\wangfu\\Anaconda3\\lib\\site-packages\\sklearn\\tree\\_classes.py:310: FutureWarning: The min_impurity_split parameter is deprecated. Its default value has changed from 1e-7 to 0 in version 0.23, and it will be removed in 0.25. Use the min_impurity_decrease parameter instead.\n",
      "  FutureWarning)\n",
      "C:\\Users\\wangfu\\Anaconda3\\lib\\site-packages\\sklearn\\tree\\_classes.py:310: FutureWarning: The min_impurity_split parameter is deprecated. Its default value has changed from 1e-7 to 0 in version 0.23, and it will be removed in 0.25. Use the min_impurity_decrease parameter instead.\n",
      "  FutureWarning)\n",
      "C:\\Users\\wangfu\\Anaconda3\\lib\\site-packages\\sklearn\\tree\\_classes.py:310: FutureWarning: The min_impurity_split parameter is deprecated. Its default value has changed from 1e-7 to 0 in version 0.23, and it will be removed in 0.25. Use the min_impurity_decrease parameter instead.\n",
      "  FutureWarning)\n"
     ]
    }
   ],
   "source": [
    "from sklearn.ensemble import RandomForestClassifier\n",
    "\n",
    "# Create and train a Random Forest classifier\n",
    "clf = RandomForestClassifier(n_estimators=10, criterion='gini', max_depth=None,\n",
    "                             min_samples_split=2, min_samples_leaf=1, \n",
    "                             min_weight_fraction_leaf=0.0, max_features='auto', \n",
    "                             max_leaf_nodes=None, min_impurity_split=1e-07, bootstrap=True, \n",
    "                             oob_score=False, n_jobs=1, random_state=None, \n",
    "                             verbose=0, warm_start=False, class_weight=None)\n",
    "clf = clf.fit(X_train, y_train)\n",
    "print(\"n_estimators=\", clf.n_estimators, \" max_depth=\",clf.max_depth,\n",
    "      \"max_features=\", clf.max_features)\n",
    "\n",
    "# Evaluate acuracy on test data\n",
    "print(clf)\n",
    "score = clf.score(X_test, y_test)\n",
    "print(\"Acuracy (on test set) = \", score)\n",
    "from sklearn.metrics import classification_report\n",
    "from sklearn.metrics import confusion_matrix\n",
    "y_true, y_pred = y_test, clf.predict(X_test)\n",
    "print( classification_report(y_true, y_pred) )\n",
    "print(\"\\n CONFUSION MATRIX\")\n",
    "print( confusion_matrix(y_true, y_pred) )\n"
   ]
  },
  {
   "cell_type": "markdown",
   "metadata": {},
   "source": [
    "**Finally, find somewhat optimized values the set of 3 main hyper-parameters for RandomForest, by using CROSS-VALIDATION** (see cross-validation example from the Multi-Layer Perceptron notebook used in earlier practical session). __Put the code in the cell below:__"
   ]
  },
  {
   "cell_type": "code",
   "execution_count": 14,
   "metadata": {},
   "outputs": [
    {
     "data": {
      "text/plain": [
       "GridSearchCV(cv=3,\n",
       "             estimator=RandomForestClassifier(min_samples_split=4, n_jobs=1),\n",
       "             param_grid=[{'max_depth': [5, 10, 20, 50],\n",
       "                          'max_features': ('auto', 'sqrt', 'log2'),\n",
       "                          'n_estimators': [5, 10, 20, 50]}],\n",
       "             scoring='accuracy')"
      ]
     },
     "execution_count": 14,
     "metadata": {},
     "output_type": "execute_result"
    }
   ],
   "source": [
    "param_grid = [\n",
    "  {'n_estimators':[5, 10, 20, 50], \n",
    "   'max_depth':[5, 10, 20, 50],\n",
    "   'max_features': ('auto', 'sqrt', 'log2')}\n",
    " ]\n",
    "\n",
    "# Cross-validation grid-search (for finding best possible accuracy)\n",
    "clf = GridSearchCV(RandomForestClassifier(criterion='gini',\n",
    "                             min_samples_split=4, min_samples_leaf=1, \n",
    "                             min_weight_fraction_leaf=0.0, \n",
    "                             max_leaf_nodes=None, bootstrap=True, \n",
    "                             oob_score=False, n_jobs=1, random_state=None, \n",
    "                             verbose=0), \n",
    "                   param_grid, cv=3, scoring='accuracy') \n",
    "# NOTE THAT YOU CAN USE OTHER VALUE FOR cv (# of folds) and OTHER SCORING CRITERIA OTHER THAN 'accuracy'\n",
    "    \n",
    "clf.fit(X, y)\n",
    "\n"
   ]
  },
  {
   "cell_type": "code",
   "execution_count": 15,
   "metadata": {},
   "outputs": [
    {
     "name": "stdout",
     "output_type": "stream",
     "text": [
      "Acuracy (on test set) =  1.0\n",
      "              precision    recall  f1-score   support\n",
      "\n",
      "           0       1.00      1.00      1.00       178\n",
      "           1       1.00      1.00      1.00       182\n",
      "           2       1.00      1.00      1.00       177\n",
      "           3       1.00      1.00      1.00       183\n",
      "           4       1.00      1.00      1.00       181\n",
      "           5       1.00      1.00      1.00       182\n",
      "           6       1.00      1.00      1.00       181\n",
      "           7       1.00      1.00      1.00       179\n",
      "           8       1.00      1.00      1.00       174\n",
      "           9       1.00      1.00      1.00       180\n",
      "\n",
      "    accuracy                           1.00      1797\n",
      "   macro avg       1.00      1.00      1.00      1797\n",
      "weighted avg       1.00      1.00      1.00      1797\n",
      "\n",
      "\n",
      " CONFUSION MATRIX\n",
      "[[178   0   0   0   0   0   0   0   0   0]\n",
      " [  0 182   0   0   0   0   0   0   0   0]\n",
      " [  0   0 177   0   0   0   0   0   0   0]\n",
      " [  0   0   0 183   0   0   0   0   0   0]\n",
      " [  0   0   0   0 181   0   0   0   0   0]\n",
      " [  0   0   0   0   0 182   0   0   0   0]\n",
      " [  0   0   0   0   0   0 181   0   0   0]\n",
      " [  0   0   0   0   0   0   0 179   0   0]\n",
      " [  0   0   0   0   0   0   0   0 174   0]\n",
      " [  0   0   0   0   0   0   0   0   0 180]]\n",
      "RandomForestClassifier(max_depth=50, min_samples_split=4, n_estimators=50,\n",
      "                       n_jobs=1)\n"
     ]
    }
   ],
   "source": [
    "score = clf.score(X_test, y_test)\n",
    "print(\"Acuracy (on test set) = \", score)\n",
    "from sklearn.metrics import classification_report\n",
    "from sklearn.metrics import confusion_matrix\n",
    "y_true, y_pred = y, clf.predict(X)\n",
    "print( classification_report(y_true, y_pred) )\n",
    "print(\"\\n CONFUSION MATRIX\")\n",
    "print( confusion_matrix(y_true, y_pred) )\n",
    "print(clf.best_estimator_)"
   ]
  },
  {
   "cell_type": "markdown",
   "metadata": {},
   "source": [
    "__Question: What best value have you managed to reach for TEST accuracy of your RandomForest after you properly gridSearched its hyper-parameters using CrossValidation?__\n",
    "\n",
    "__Answer:__ The best value I realised is $accuracy = 1$, with $max\\_depth = 50$, $n\\_estimator = 50$"
   ]
  },
  {
   "cell_type": "markdown",
   "metadata": {
    "collapsed": true
   },
   "source": [
    "## 3. Building, training and evaluating an AdaBoost classifier\n",
    "\n",
    "The SciKit-learn class for adaBoost is sklearn.ensemble.AdaBoostClassifier.\n",
    "\n",
    "**Please FIRST READ (and understand!) the [*AdaBoostClassifier DOCUMENTATION*](http://scikit-learn.org/stable/modules/generated/sklearn.ensemble.AdaBoostClassifier.html#sklearn.ensemble.AdaBoostClassifier) to understand all parameters of the contructor.**\n",
    "\n",
    "**Then begin by running the code block below, in which a default set of parameter values has been used.** \n",
    "\n",
    "**Then, check the influence of MAIN parameters for adaBoost classifier, i.e.:**\n",
    " - **base_estimator (ie type of Weak Classifier/Learner)** \n",
    " - **n_estimators (number of boosting iterations, and therefore also number of weak classifiers)**\n",
    " - algorithm\n",
    " \n",
    "**Finally, check which other types of classifiers can be used as Weak Classifier with the adaBoost implementation of SciKit-Learn.**\n",
    "NB: in principle it is possible to use MLP classifiers as weak classifiers, but not with SciKit-learn implementation of MLPClassifier (because weighting of examples is not handled by its implementation)."
   ]
  },
  {
   "cell_type": "code",
   "execution_count": 16,
   "metadata": {
    "scrolled": false
   },
   "outputs": [
    {
     "name": "stdout",
     "output_type": "stream",
     "text": [
      "Weak_learner: DecisionTreeClassifier(max_depth=6)\n",
      "Weights of weak classifiers:  [3.8694389  4.01673598 5.13221083 5.16632464 4.74817543 4.54296183\n",
      " 4.61373859 5.3382181  4.53520878 4.70156517 4.88058392 6.16761423\n",
      " 5.02814498 4.33003157 5.02998452]\n"
     ]
    },
    {
     "data": {
      "image/png": "[encoded data removed]",
      "text/plain": [
       "<Figure size 432x288 with 1 Axes>"
      ]
     },
     "metadata": {
      "needs_background": "light"
     },
     "output_type": "display_data"
    },
    {
     "name": "stdout",
     "output_type": "stream",
     "text": [
      "n_estimators= 15\n",
      "Acuracy (on test set) =  0.917686318131257\n",
      "              precision    recall  f1-score   support\n",
      "\n",
      "           0       0.97      0.96      0.97        81\n",
      "           1       0.92      0.94      0.93        88\n",
      "           2       0.98      0.91      0.94        90\n",
      "           3       0.91      0.87      0.89        93\n",
      "           4       0.90      0.94      0.92        98\n",
      "           5       0.93      0.97      0.95        91\n",
      "           6       0.94      0.96      0.95        89\n",
      "           7       0.94      0.90      0.92        83\n",
      "           8       0.78      0.92      0.85        87\n",
      "           9       0.93      0.82      0.87        99\n",
      "\n",
      "    accuracy                           0.92       899\n",
      "   macro avg       0.92      0.92      0.92       899\n",
      "weighted avg       0.92      0.92      0.92       899\n",
      "\n",
      "\n",
      " CONFUSION MATRIX\n",
      "[[78  0  0  0  2  0  1  0  0  0]\n",
      " [ 0 83  0  0  0  1  0  0  4  0]\n",
      " [ 1  1 82  4  0  0  1  0  1  0]\n",
      " [ 0  2  0 81  0  2  1  0  5  2]\n",
      " [ 0  1  0  0 92  1  2  1  1  0]\n",
      " [ 0  0  0  0  1 88  0  0  1  1]\n",
      " [ 0  1  0  0  2  0 85  0  1  0]\n",
      " [ 0  0  0  1  2  1  0 75  3  1]\n",
      " [ 0  2  1  1  0  0  0  1 80  2]\n",
      " [ 1  0  1  2  3  2  0  3  6 81]]\n"
     ]
    }
   ],
   "source": [
    "from sklearn.ensemble import AdaBoostClassifier\n",
    "\n",
    "# Create and train an adaBoost classifier using SMALL Decision Trees as weak classifiers\n",
    "weak_learner = tree.DecisionTreeClassifier(max_depth=6)\n",
    "clf = AdaBoostClassifier(weak_learner, n_estimators=15, learning_rate=1.0, algorithm='SAMME', \n",
    "                         random_state=None)\n",
    "clf = clf.fit(X_train, y_train)\n",
    "print(\"Weak_learner:\", clf.base_estimator)\n",
    "print(\"Weights of weak classifiers: \", clf.estimator_weights_)\n",
    "      \n",
    "# Plot training curves (error = f(iterations))\n",
    "n_iter = clf.n_estimators\n",
    "from sklearn.metrics import zero_one_loss\n",
    "ada_train_err = np.zeros((clf.n_estimators,))\n",
    "for i, y_pred in enumerate(clf.staged_predict(X_train)):\n",
    "    ada_train_err[i] = zero_one_loss(y_pred, y_train)\n",
    "ada_test_err = np.zeros((clf.n_estimators,))\n",
    "for i, y_pred in enumerate(clf.staged_predict(X_test)):\n",
    "    ada_test_err[i] = zero_one_loss(y_pred, y_test)\n",
    "fig = plt.figure()\n",
    "ax = fig.add_subplot(111)\n",
    "ax.plot(np.arange(n_iter) + 1, ada_train_err,\n",
    "        label='Training Error',\n",
    "        color='green')\n",
    "ax.plot(np.arange(n_iter) + 1, ada_test_err,\n",
    "        label='Test Error',\n",
    "        color='orange')\n",
    "ax.set_ylim((0.0, 0.5))\n",
    "ax.set_xlabel('boosting iterations')\n",
    "ax.set_ylabel('error rate')\n",
    "leg = ax.legend(loc='upper right', fancybox=True)\n",
    "plt.show()\n",
    "\n",
    "# Evaluate acuracy on test data\n",
    "print(\"n_estimators=\", clf.n_estimators)\n",
    "score = clf.score(X_test, y_test)\n",
    "print(\"Acuracy (on test set) = \", score)\n",
    "from sklearn.metrics import classification_report\n",
    "from sklearn.metrics import confusion_matrix\n",
    "y_true, y_pred = y_test, clf.predict(X_test)\n",
    "print( classification_report(y_true, y_pred) )\n",
    "print(\"\\n CONFUSION MATRIX\")\n",
    "print( confusion_matrix(y_true, y_pred) )"
   ]
  },
  {
   "cell_type": "markdown",
   "metadata": {},
   "source": [
    "__Question:__ Looking at the training curves, you can see that **training error goes down to zero rather quickly, but that test_error still continues, after training error is zero, to diminish with increasing iterations**. __Is it normal, and why?__ (check the course!)\n",
    "\n",
    "__Answer:__ It is normal because this is one of the drawbacks of Adaboost. This algorithme is easy to get over-fitting. "
   ]
  },
  {
   "cell_type": "markdown",
   "metadata": {},
   "source": [
    "**Now, for the case of _DecisionTree_ weak classifiers, find somewhat optimized values of (max_depth, n_estimators) by using CROSS-VALIDATION.** __Put the code below:__"
   ]
  },
  {
   "cell_type": "code",
   "execution_count": 24,
   "metadata": {},
   "outputs": [
    {
     "data": {
      "text/plain": [
       "GridSearchCV(cv=3,\n",
       "             estimator=AdaBoostClassifier(algorithm='SAMME',\n",
       "                                          base_estimator=DecisionTreeClassifier(max_depth=10)),\n",
       "             param_grid=[{'n_estimators': [5, 10, 20, 50]}],\n",
       "             scoring='accuracy')"
      ]
     },
     "execution_count": 24,
     "metadata": {},
     "output_type": "execute_result"
    }
   ],
   "source": [
    "param_grid = [\n",
    "  {'n_estimators':[5, 10, 20, 50], \n",
    "   #'max_depth':[5, 10, 20, 50]\n",
    "   }\n",
    " ]\n",
    "\n",
    "clf = GridSearchCV(AdaBoostClassifier(tree.DecisionTreeClassifier(max_depth = 10), learning_rate=1.0, algorithm='SAMME', \n",
    "                         random_state=None), \n",
    "                   param_grid, cv=3, scoring='accuracy') \n",
    "    \n",
    "clf.fit(X, y)\n",
    "\n"
   ]
  },
  {
   "cell_type": "code",
   "execution_count": 25,
   "metadata": {},
   "outputs": [
    {
     "name": "stdout",
     "output_type": "stream",
     "text": [
      "Acuracy (on test set) =  1.0\n",
      "              precision    recall  f1-score   support\n",
      "\n",
      "           0       1.00      1.00      1.00       178\n",
      "           1       1.00      1.00      1.00       182\n",
      "           2       1.00      1.00      1.00       177\n",
      "           3       1.00      1.00      1.00       183\n",
      "           4       1.00      1.00      1.00       181\n",
      "           5       1.00      1.00      1.00       182\n",
      "           6       1.00      1.00      1.00       181\n",
      "           7       1.00      1.00      1.00       179\n",
      "           8       1.00      1.00      1.00       174\n",
      "           9       1.00      1.00      1.00       180\n",
      "\n",
      "    accuracy                           1.00      1797\n",
      "   macro avg       1.00      1.00      1.00      1797\n",
      "weighted avg       1.00      1.00      1.00      1797\n",
      "\n",
      "\n",
      " CONFUSION MATRIX\n",
      "[[178   0   0   0   0   0   0   0   0   0]\n",
      " [  0 182   0   0   0   0   0   0   0   0]\n",
      " [  0   0 177   0   0   0   0   0   0   0]\n",
      " [  0   0   0 183   0   0   0   0   0   0]\n",
      " [  0   0   0   0 181   0   0   0   0   0]\n",
      " [  0   0   0   0   0 182   0   0   0   0]\n",
      " [  0   0   0   0   0   0 181   0   0   0]\n",
      " [  0   0   0   0   0   0   0 179   0   0]\n",
      " [  0   0   0   0   0   0   0   0 174   0]\n",
      " [  0   0   0   0   0   0   0   0   0 180]]\n",
      "AdaBoostClassifier(algorithm='SAMME',\n",
      "                   base_estimator=DecisionTreeClassifier(max_depth=10),\n",
      "                   n_estimators=20)\n"
     ]
    }
   ],
   "source": [
    "score = clf.score(X_test, y_test)\n",
    "print(\"Acuracy (on test set) = \", score)\n",
    "from sklearn.metrics import classification_report\n",
    "from sklearn.metrics import confusion_matrix\n",
    "y_true, y_pred = y, clf.predict(X)\n",
    "print( classification_report(y_true, y_pred) )\n",
    "print(\"\\n CONFUSION MATRIX\")\n",
    "print( confusion_matrix(y_true, y_pred) )\n",
    "print(clf.best_estimator_)"
   ]
  },
  {
   "cell_type": "markdown",
   "metadata": {},
   "source": [
    "__Question: What best value have you managed to reach for TEST accuracy of your AdaboostClassifier after you properly gridSearched its hyper-parameters using CrossValidation?__\n",
    "\n",
    "__Answer:__ I managed to get $accuracy = 1.0$, with $n\\_estimator = 20$ and $max\\_depth = 10$."
   ]
  },
  {
   "cell_type": "code",
   "execution_count": null,
   "metadata": {},
   "outputs": [],
   "source": []
  }
 ],
 "metadata": {
  "kernelspec": {
   "display_name": "Python 3",
   "language": "python",
   "name": "python3"
  },
  "language_info": {
   "codemirror_mode": {
    "name": "ipython",
    "version": 3
   },
   "file_extension": ".py",
   "mimetype": "text/x-python",
   "name": "python",
   "nbconvert_exporter": "python",
   "pygments_lexer": "ipython3",
   "version": "3.7.9"
  }
 },
 "nbformat": 4,
 "nbformat_minor": 1
}
